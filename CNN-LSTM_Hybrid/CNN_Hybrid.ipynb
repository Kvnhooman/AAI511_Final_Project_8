{
 "cells": [
  {
   "cell_type": "code",
   "execution_count": 1,
   "id": "cec0cc6c",
   "metadata": {},
   "outputs": [],
   "source": [
    "import pickle\n",
    "import numpy as np\n",
    "import torch\n",
    "import torch.nn as nn\n",
    "import torch.optim as optim\n",
    "from torch.utils.data import Dataset, DataLoader\n",
    "from pathlib import Path\n",
    "from sklearn.metrics import accuracy_score, classification_report, confusion_matrix"
   ]
  },
  {
   "cell_type": "code",
   "execution_count": 10,
   "id": "80d1a67b",
   "metadata": {},
   "outputs": [],
   "source": [
    "\n",
    "BASE_DIR = Path('../data/processed_data')\n",
    "\n",
    "# Sequence length  (match your LSTM window size)\n",
    "WINDOW_LEN = 50\n",
    "\n",
    "# Pitch range for piano-roll\n",
    "PITCH_START = 21\n",
    "PITCH_END   = 108\n",
    "NUM_PITCHES = PITCH_END - PITCH_START + 1  # 88"
   ]
  },
  {
   "cell_type": "markdown",
   "id": "4703da00",
   "metadata": {},
   "source": [
    "### Define Piano-Roll Conversion"
   ]
  },
  {
   "cell_type": "code",
   "execution_count": 11,
   "id": "34151767",
   "metadata": {},
   "outputs": [],
   "source": [
    "def seq_to_pianoroll(seq,\n",
    "                     pitch_start=PITCH_START,\n",
    "                     num_pitches=NUM_PITCHES):\n",
    "    \"\"\"\n",
    "    seq: np.array of shape (WINDOW_LEN, 3), where seq[:,0] = pitch.\n",
    "    Returns a binary piano-roll: shape (1, num_pitches, WINDOW_LEN).\n",
    "    \"\"\"\n",
    "    pr = np.zeros((num_pitches, seq.shape[0]), dtype=np.float32)\n",
    "    for t, note in enumerate(seq):\n",
    "        p = int(note[0])\n",
    "        pr[p - pitch_start, t] = 1.0\n",
    "    return pr[np.newaxis, :, :]  # add channel dimension"
   ]
  },
  {
   "cell_type": "markdown",
   "id": "edd77559",
   "metadata": {},
   "source": [
    "### Load LSTM Windows & Build CNN Features"
   ]
  },
  {
   "cell_type": "code",
   "execution_count": 12,
   "id": "cc3ed5a3",
   "metadata": {},
   "outputs": [
    {
     "name": "stdout",
     "output_type": "stream",
     "text": [
      "LSTM shapes: (480044, 50, 3) (41034, 50, 3) (39295, 50, 3)\n",
      "CNN shapes:  (480044, 1, 88, 50) (41034, 1, 88, 50) (39295, 1, 88, 50)\n",
      "Labels train/dev/test: (480044,) (41034,) (39295,)\n"
     ]
    }
   ],
   "source": [
    "# Load LSTM windows + labels\n",
    "with open(BASE_DIR/'lstm_train.pkl','rb') as f:\n",
    "    X_train_l, y_train = pickle.load(f)\n",
    "with open(BASE_DIR/'lstm_dev.pkl','rb') as f:\n",
    "    X_dev_l,   y_dev   = pickle.load(f)\n",
    "with open(BASE_DIR/'lstm_test.pkl','rb') as f:\n",
    "    X_test_l,  y_test  = pickle.load(f)\n",
    "\n",
    "# Convert each window to a piano-roll\n",
    "X_train_c = np.stack([seq_to_pianoroll(seq) for seq in X_train_l], axis=0)\n",
    "X_dev_c   = np.stack([seq_to_pianoroll(seq) for seq in X_dev_l],   axis=0)\n",
    "X_test_c  = np.stack([seq_to_pianoroll(seq) for seq in X_test_l],  axis=0)\n",
    "\n",
    "print(\"LSTM shapes:\", X_train_l.shape, X_dev_l.shape, X_test_l.shape)\n",
    "print(\"CNN shapes: \", X_train_c.shape, X_dev_c.shape, X_test_c.shape)\n",
    "print(\"Labels train/dev/test:\", y_train.shape, y_dev.shape, y_test.shape)\n"
   ]
  },
  {
   "cell_type": "code",
   "execution_count": 13,
   "id": "827c8353",
   "metadata": {},
   "outputs": [
    {
     "name": "stdout",
     "output_type": "stream",
     "text": [
      "✅ CNN feature files written.\n"
     ]
    }
   ],
   "source": [
    "\n",
    "np.save(BASE_DIR/'cnn_train_data.npy',  X_train_c)\n",
    "np.save(BASE_DIR/'cnn_train_labels.npy', y_train)\n",
    "np.save(BASE_DIR/'cnn_dev_data.npy',    X_dev_c)\n",
    "np.save(BASE_DIR/'cnn_dev_labels.npy',   y_dev)\n",
    "np.save(BASE_DIR/'cnn_test_data.npy',   X_test_c)\n",
    "np.save(BASE_DIR/'cnn_test_labels.npy',  y_test)\n",
    "print(\"✅ CNN feature files written.\")"
   ]
  },
  {
   "cell_type": "code",
   "execution_count": null,
   "id": "ad22b059",
   "metadata": {},
   "outputs": [
    {
     "name": "stdout",
     "output_type": "stream",
     "text": [
      "LSTM batch shape: torch.Size([32, 50, 3])\n",
      "CNN batch shape:  torch.Size([32, 1, 88, 50])\n",
      "Label batch shape: torch.Size([32])\n"
     ]
    }
   ],
   "source": [
    "# Hybrid Dataset & DataLoaders\n",
    "import torch\n",
    "from torch.utils.data import Dataset, DataLoader\n",
    "\n",
    "class HybridDataset(Dataset):\n",
    "    def __init__(self, lstm_data, cnn_data, labels):\n",
    "        self.lstm = torch.tensor(lstm_data, dtype=torch.float32)\n",
    "        self.cnn  = torch.tensor(cnn_data,  dtype=torch.float32)\n",
    "        self.labels = torch.tensor(labels, dtype=torch.long)\n",
    "\n",
    "    def __len__(self):\n",
    "        return len(self.labels)\n",
    "\n",
    "    def __getitem__(self, idx):\n",
    "        return self.lstm[idx], self.cnn[idx], self.labels[idx]\n",
    "\n",
    "# Build datasets\n",
    "train_ds = HybridDataset(X_train_l, X_train_c, y_train)\n",
    "dev_ds   = HybridDataset(X_dev_l,   X_dev_c,   y_dev)\n",
    "test_ds  = HybridDataset(X_test_l,  X_test_c,  y_test)\n",
    "\n",
    "# Create loaders\n",
    "batch_size = 32\n",
    "train_loader = DataLoader(train_ds, batch_size=batch_size, shuffle=True)\n",
    "dev_loader   = DataLoader(dev_ds,   batch_size=batch_size)\n",
    "test_loader  = DataLoader(test_ds,  batch_size=batch_size)\n",
    "\n",
    "\n",
    "lstm_b, cnn_b, y_b = next(iter(train_loader))\n",
    "print(\"LSTM batch shape:\", lstm_b.shape)   \n",
    "print(\"CNN batch shape: \", cnn_b.shape)    \n",
    "print(\"Label batch shape:\", y_b.shape)    "
   ]
  },
  {
   "cell_type": "code",
   "execution_count": null,
   "id": "68a0f604",
   "metadata": {},
   "outputs": [],
   "source": []
  }
 ],
 "metadata": {
  "kernelspec": {
   "display_name": "Python 3",
   "language": "python",
   "name": "python3"
  },
  "language_info": {
   "codemirror_mode": {
    "name": "ipython",
    "version": 3
   },
   "file_extension": ".py",
   "mimetype": "text/x-python",
   "name": "python",
   "nbconvert_exporter": "python",
   "pygments_lexer": "ipython3",
   "version": "3.12.4"
  }
 },
 "nbformat": 4,
 "nbformat_minor": 5
}
