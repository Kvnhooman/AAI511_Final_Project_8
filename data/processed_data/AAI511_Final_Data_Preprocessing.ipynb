{
  "cells": [
    {
      "cell_type": "markdown",
      "metadata": {
        "id": "IactQp48t2nI"
      },
      "source": []
    },
    {
      "cell_type": "code",
      "execution_count": 3,
      "metadata": {
        "colab": {
          "base_uri": "https://localhost:8080/"
        },
        "collapsed": true,
        "id": "KCJyJkXSt051",
        "outputId": "da4868b5-6731-4b83-c8bb-bcd7978a3840"
      },
      "outputs": [
        {
          "name": "stdout",
          "output_type": "stream",
          "text": [
            "Requirement already satisfied: pretty_midi in /Library/Frameworks/Python.framework/Versions/3.12/lib/python3.12/site-packages (0.2.10)\n",
            "Requirement already satisfied: music21 in /Library/Frameworks/Python.framework/Versions/3.12/lib/python3.12/site-packages (9.7.1)\n",
            "Requirement already satisfied: numpy in /Library/Frameworks/Python.framework/Versions/3.12/lib/python3.12/site-packages (1.26.4)\n",
            "Requirement already satisfied: pandas in /Library/Frameworks/Python.framework/Versions/3.12/lib/python3.12/site-packages (2.2.3)\n",
            "Requirement already satisfied: matplotlib in /Library/Frameworks/Python.framework/Versions/3.12/lib/python3.12/site-packages (3.10.0)\n",
            "Requirement already satisfied: scikit-learn in /Library/Frameworks/Python.framework/Versions/3.12/lib/python3.12/site-packages (1.7.0)\n",
            "Requirement already satisfied: mido>=1.1.16 in /Library/Frameworks/Python.framework/Versions/3.12/lib/python3.12/site-packages (from pretty_midi) (1.3.3)\n",
            "Requirement already satisfied: six in /Library/Frameworks/Python.framework/Versions/3.12/lib/python3.12/site-packages (from pretty_midi) (1.16.0)\n",
            "Requirement already satisfied: chardet in /Library/Frameworks/Python.framework/Versions/3.12/lib/python3.12/site-packages (from music21) (5.2.0)\n",
            "Requirement already satisfied: joblib in /Library/Frameworks/Python.framework/Versions/3.12/lib/python3.12/site-packages (from music21) (1.4.2)\n",
            "Requirement already satisfied: jsonpickle in /Library/Frameworks/Python.framework/Versions/3.12/lib/python3.12/site-packages (from music21) (4.1.1)\n",
            "Requirement already satisfied: more-itertools in /Library/Frameworks/Python.framework/Versions/3.12/lib/python3.12/site-packages (from music21) (10.7.0)\n",
            "Requirement already satisfied: requests in /Library/Frameworks/Python.framework/Versions/3.12/lib/python3.12/site-packages (from music21) (2.32.3)\n",
            "Requirement already satisfied: webcolors>=1.5 in /Library/Frameworks/Python.framework/Versions/3.12/lib/python3.12/site-packages (from music21) (24.8.0)\n",
            "Requirement already satisfied: python-dateutil>=2.8.2 in /Library/Frameworks/Python.framework/Versions/3.12/lib/python3.12/site-packages (from pandas) (2.9.0.post0)\n",
            "Requirement already satisfied: pytz>=2020.1 in /Library/Frameworks/Python.framework/Versions/3.12/lib/python3.12/site-packages (from pandas) (2024.2)\n",
            "Requirement already satisfied: tzdata>=2022.7 in /Library/Frameworks/Python.framework/Versions/3.12/lib/python3.12/site-packages (from pandas) (2024.2)\n",
            "Requirement already satisfied: contourpy>=1.0.1 in /Library/Frameworks/Python.framework/Versions/3.12/lib/python3.12/site-packages (from matplotlib) (1.3.1)\n",
            "Requirement already satisfied: cycler>=0.10 in /Library/Frameworks/Python.framework/Versions/3.12/lib/python3.12/site-packages (from matplotlib) (0.12.1)\n",
            "Requirement already satisfied: fonttools>=4.22.0 in /Library/Frameworks/Python.framework/Versions/3.12/lib/python3.12/site-packages (from matplotlib) (4.55.3)\n",
            "Requirement already satisfied: kiwisolver>=1.3.1 in /Library/Frameworks/Python.framework/Versions/3.12/lib/python3.12/site-packages (from matplotlib) (1.4.8)\n",
            "Requirement already satisfied: packaging>=20.0 in /Library/Frameworks/Python.framework/Versions/3.12/lib/python3.12/site-packages (from matplotlib) (24.1)\n",
            "Requirement already satisfied: pillow>=8 in /Library/Frameworks/Python.framework/Versions/3.12/lib/python3.12/site-packages (from matplotlib) (11.1.0)\n",
            "Requirement already satisfied: pyparsing>=2.3.1 in /Library/Frameworks/Python.framework/Versions/3.12/lib/python3.12/site-packages (from matplotlib) (3.2.1)\n",
            "Requirement already satisfied: scipy>=1.8.0 in /Library/Frameworks/Python.framework/Versions/3.12/lib/python3.12/site-packages (from scikit-learn) (1.13.1)\n",
            "Requirement already satisfied: threadpoolctl>=3.1.0 in /Library/Frameworks/Python.framework/Versions/3.12/lib/python3.12/site-packages (from scikit-learn) (3.5.0)\n",
            "Requirement already satisfied: charset-normalizer<4,>=2 in /Library/Frameworks/Python.framework/Versions/3.12/lib/python3.12/site-packages (from requests->music21) (3.4.0)\n",
            "Requirement already satisfied: idna<4,>=2.5 in /Library/Frameworks/Python.framework/Versions/3.12/lib/python3.12/site-packages (from requests->music21) (3.10)\n",
            "Requirement already satisfied: urllib3<3,>=1.21.1 in /Library/Frameworks/Python.framework/Versions/3.12/lib/python3.12/site-packages (from requests->music21) (1.26.20)\n",
            "Requirement already satisfied: certifi>=2017.4.17 in /Library/Frameworks/Python.framework/Versions/3.12/lib/python3.12/site-packages (from requests->music21) (2024.6.2)\n"
          ]
        }
      ],
      "source": [
        "# Environment setup\n",
        "!pip install pretty_midi music21 numpy pandas matplotlib scikit-learn"
      ]
    },
    {
      "cell_type": "code",
      "execution_count": 4,
      "metadata": {
        "id": "yPKrVbK5uAqe"
      },
      "outputs": [],
      "source": [
        "# Imports\n",
        "import os\n",
        "import zipfile\n",
        "import numpy as np\n",
        "import pretty_midi\n",
        "import pickle\n",
        "\n",
        "from sklearn.preprocessing import LabelEncoder\n",
        "from tqdm import tqdm"
      ]
    },
    {
      "cell_type": "code",
      "execution_count": 5,
      "metadata": {
        "id": "8R1l1qOoMS5P"
      },
      "outputs": [],
      "source": [
        "# Config\n",
        "SEQUENCE_LENGTH = 50 # input for LSTM and CNN\n",
        "MAX_SEQUENCES_PER_FILE = 50\n",
        "MIDI_DIR = 'dataset'"
      ]
    },
    {
      "cell_type": "code",
      "execution_count": 6,
      "metadata": {
        "id": "lD_M3pxdy44B"
      },
      "outputs": [],
      "source": [
        "# Unzip dataset\n",
        "def extract_zip(zip_path, extract_to):\n",
        "  # if not os.path.exists(extract_to):\n",
        "  #   os.makedirs(extract_to)\n",
        "  with zipfile.ZipFile(zip_path, 'r') as zip_ref:\n",
        "    zip_ref.extractall(extract_to)\n",
        "  print(f\"Extracted zip contents to '{extract_to}\")\n",
        "\n",
        "# Check unzipped (debug)\n",
        "# for root, dirs, files in os.walk('dataset'):\n",
        "#   for file in files:\n",
        "#     if file.endswith('.mid') or file. endswith('.midi'):\n",
        "#       print(os.path.join(root, file))"
      ]
    },
    {
      "cell_type": "markdown",
      "metadata": {
        "id": "nY-oLhYpQBHu"
      },
      "source": [
        "### Load MIDI Files"
      ]
    },
    {
      "cell_type": "code",
      "execution_count": 7,
      "metadata": {
        "id": "LxkwTc7iMoFh"
      },
      "outputs": [],
      "source": [
        "#\n",
        "def load_midi_files(midi_root):\n",
        "  midi_data = []\n",
        "  filenames = []\n",
        "  for composer in os.listdir(midi_root):\n",
        "    composer_dir = os.path.join(midi_root, composer)\n",
        "    if os.path.isdir(composer_dir):\n",
        "      for file in os.listdir(composer_dir):\n",
        "        if file.endswith('.mid') or file.endswith('.midi'):\n",
        "          path = os.path.join(composer_dir, file)\n",
        "          try:\n",
        "            midi = pretty_midi.PrettyMIDI(path)\n",
        "            midi_data.append((file, midi))\n",
        "            filenames.append(file)\n",
        "          except Exception as e:\n",
        "            print(f\"Skipping {file}: {e}\")\n",
        "  return midi_data, filenames"
      ]
    },
    {
      "cell_type": "markdown",
      "metadata": {
        "id": "4Q3SkJy6NmaB"
      },
      "source": [
        "### Extract Features\n"
      ]
    },
    {
      "cell_type": "code",
      "execution_count": 8,
      "metadata": {
        "id": "doTh7H-vDqGz"
      },
      "outputs": [],
      "source": [
        "def extract_note_sequence(midi):\n",
        "  notes = []\n",
        "  for instrument in midi.instruments:\n",
        "    if not instrument.is_drum:\n",
        "      for note in instrument.notes:\n",
        "        notes.append({\n",
        "            'start': note.start,\n",
        "            'pitch': note.pitch,\n",
        "            'duration': note.end - note.start,\n",
        "            'velocity': note.velocity\n",
        "        })\n",
        "  # Sorting by time:\n",
        "  notes.sort(key=lambda n: n['start'])\n",
        "  return notes"
      ]
    },
    {
      "cell_type": "markdown",
      "metadata": {
        "id": "ivQhNH1AQQIg"
      },
      "source": [
        "### Make Sequences (LSTM/RNN)"
      ]
    },
    {
      "cell_type": "code",
      "execution_count": 9,
      "metadata": {
        "id": "KsJpiTIUQWrp"
      },
      "outputs": [],
      "source": [
        "def make_feature_sequences(notes, seq_len=SEQUENCE_LENGTH):\n",
        "  sequence = []\n",
        "  for i in range(len(notes) - seq_len):\n",
        "    seq = notes[i:i + seq_len]\n",
        "    sequence.append(seq)\n",
        "  return sequence"
      ]
    },
    {
      "cell_type": "markdown",
      "metadata": {
        "id": "JFg0K72S7YCE"
      },
      "source": [
        "### Make Piano Rolls (CNN)"
      ]
    },
    {
      "cell_type": "code",
      "execution_count": 10,
      "metadata": {
        "id": "6Zso59_e7fuU"
      },
      "outputs": [],
      "source": [
        "# Notes to piano rolls\n",
        "def notes_to_piano_roll(notes, seq_len=SEQUENCE_LENGTH, pitch_range=(21, 109)):\n",
        "  roll = np.zeros((seq_len, pitch_range[1] - pitch_range[0])) # 50 * 88\n",
        "\n",
        "  for i, note in enumerate(notes[:seq_len]):\n",
        "    pitch = note['pitch']\n",
        "    if pitch_range[0] <= pitch < pitch_range[1]:\n",
        "      roll[i, pitch - pitch_range[0]] = 1.0\n",
        "  return roll"
      ]
    },
    {
      "cell_type": "markdown",
      "metadata": {
        "id": "VZZC3haLRFSK"
      },
      "source": [
        "### Normalize Features"
      ]
    },
    {
      "cell_type": "code",
      "execution_count": 11,
      "metadata": {
        "id": "U4_SUpmZHFXD"
      },
      "outputs": [],
      "source": [
        "def normalize(sequences):\n",
        "  # Pitch: 0-127 -> [0, 1]\n",
        "  # Duration: scale to [0, 1]\n",
        "  # Velocity: 0-127 -> [0, 1]\n",
        "  all_durations = [step[1] for seq in sequences for step in seq]\n",
        "  max_duration = max(all_durations) if all_durations else 1.0\n",
        "  normalized = []\n",
        "  for seq in sequences:\n",
        "    norm_seq = np.copy(seq)\n",
        "    norm_seq[:, 0] /= 127.0         # pitch\n",
        "    norm_seq[:, 1] /= max_duration  # duration\n",
        "    norm_seq[:, 2] /= 127.0         # velocity\n",
        "    normalized.append(norm_seq)\n",
        "  return normalized"
      ]
    },
    {
      "cell_type": "markdown",
      "metadata": {
        "id": "6qOSsw-oS8wh"
      },
      "source": [
        "### Label Encoding"
      ]
    },
    {
      "cell_type": "code",
      "execution_count": 12,
      "metadata": {
        "id": "FvLFuHxuGprq"
      },
      "outputs": [],
      "source": [
        "def extract_labels(filenames):\n",
        "  composers = [name.split('_')[0] for name in filenames]\n",
        "  le = LabelEncoder()\n",
        "  labels = le.fit_transform(composers)\n",
        "  return labels, le"
      ]
    },
    {
      "cell_type": "markdown",
      "metadata": {
        "id": "Htk5QqxxTZpJ"
      },
      "source": [
        "### Main Pipeline"
      ]
    },
    {
      "cell_type": "code",
      "execution_count": 13,
      "metadata": {
        "id": "-e3TLCGOTaDR"
      },
      "outputs": [],
      "source": [
        "def preprocess_dataset(midi_root=MIDI_DIR, seq_len=SEQUENCE_LENGTH):\n",
        "  print(\"Loading MIDI files\")\n",
        "  midi_data, filenames = load_midi_files(midi_root)\n",
        "\n",
        "  all_lstm_sequences = []\n",
        "  all_cnn_sequences = []\n",
        "  all_labels = []\n",
        "\n",
        "  print(\"Processing MIDI files\")\n",
        "  for filename, midi in tqdm(midi_data):\n",
        "    notes = extract_note_sequence(midi)\n",
        "    if len(notes) < seq_len:\n",
        "      continue # skips shorter sequences\n",
        "\n",
        "    sequences = make_feature_sequences(notes, seq_len)\n",
        "    piano_rolls = [notes_to_piano_roll(seq) for seq in sequences]\n",
        "\n",
        "    # CNN input\n",
        "    all_cnn_sequences.extend(piano_rolls)\n",
        "\n",
        "    # LSTM input\n",
        "    dicts_to_array = lambda seq: np.array([[n['pitch'], n['duration'], n['velocity']] for n in seq])\n",
        "    array_sequences = [dicts_to_array(seq) for seq in sequences]\n",
        "    normalized_sequences = normalize(array_sequences)\n",
        "    all_lstm_sequences.extend(normalized_sequences[:MAX_SEQUENCES_PER_FILE])\n",
        "\n",
        "    # Labels\n",
        "    all_labels.extend([filename.split('_')[0]] * len(sequences))\n",
        "\n",
        "  if not all_lstm_sequences:\n",
        "    print(\"No valid sequence found. Check MIDI formatting and minimum length.\")\n",
        "    return None, None, None, None\n",
        "\n",
        "  # Label encoding\n",
        "  print(\"Encoding labels\")\n",
        "  le = LabelEncoder()\n",
        "  y = le.fit_transform(all_labels)\n",
        "\n",
        "  X_lstm = np.array(all_lstm_sequences, dtype=np.float32)\n",
        "  X_cnn = np.array(all_cnn_sequences)[..., np.newaxis]\n",
        "\n",
        "  print(f\"Final LSTM shape: {X_lstm.shape},\\nFinal CNN shape: {X_cnn.shape},\\nLabels shape: {y.shape}\")\n",
        "  return X_lstm, X_cnn, y, le"
      ]
    },
    {
      "cell_type": "markdown",
      "metadata": {
        "id": "AToNSdWPHI_V"
      },
      "source": [
        "### Save Preprocessed Data"
      ]
    },
    {
      "cell_type": "code",
      "execution_count": 14,
      "metadata": {
        "id": "xUWbou2T5NMr"
      },
      "outputs": [],
      "source": [
        "def save_data(X, y, label_encoder, path):\n",
        "  with open(path, 'wb') as f:\n",
        "    pickle.dump((X, y, label_encoder), f)\n",
        "  print(f\"Saved preprocessed data to {path}\")"
      ]
    },
    {
      "cell_type": "markdown",
      "metadata": {
        "id": "UlLtiuF1VqKc"
      },
      "source": [
        "### Run"
      ]
    },
    {
      "cell_type": "code",
      "execution_count": 6,
      "metadata": {
        "colab": {
          "base_uri": "https://localhost:8080/"
        },
        "id": "HExQhXXvVtXb",
        "outputId": "4d7402ca-c3aa-4d8b-b775-519498296f83"
      },
      "outputs": [
        {
          "ename": "NameError",
          "evalue": "name 'extract_zip' is not defined",
          "output_type": "error",
          "traceback": [
            "\u001b[0;31m---------------------------------------------------------------------------\u001b[0m",
            "\u001b[0;31mNameError\u001b[0m                                 Traceback (most recent call last)",
            "Cell \u001b[0;32mIn[6], line 6\u001b[0m\n\u001b[1;32m      3\u001b[0m extract_path \u001b[38;5;241m=\u001b[39m \u001b[38;5;124m'\u001b[39m\u001b[38;5;124m.\u001b[39m\u001b[38;5;124m'\u001b[39m\n\u001b[1;32m      4\u001b[0m extracted_path \u001b[38;5;241m=\u001b[39m \u001b[38;5;124m'\u001b[39m\u001b[38;5;124m/content/train\u001b[39m\u001b[38;5;124m'\u001b[39m\n\u001b[0;32m----> 6\u001b[0m \u001b[43mextract_zip\u001b[49m(zip_path, extract_to\u001b[38;5;241m=\u001b[39mextract_path)\n\u001b[1;32m      8\u001b[0m \u001b[38;5;66;03m# Preprocess extracted data\u001b[39;00m\n\u001b[1;32m      9\u001b[0m X_lstm, X_cnn, y, le \u001b[38;5;241m=\u001b[39m preprocess_dataset(midi_root\u001b[38;5;241m=\u001b[39mextracted_path)\n",
            "\u001b[0;31mNameError\u001b[0m: name 'extract_zip' is not defined"
          ]
        }
      ],
      "source": [
        "if __name__ == '__main__':\n",
        "  zip_path = '/content/train.zip'\n",
        "  extract_path = '.'\n",
        "  extracted_path = '/content/train'\n",
        "\n",
        "  extract_zip(zip_path, extract_to=extract_path)\n",
        "\n",
        "  # Preprocess extracted data\n",
        "  X_lstm, X_cnn, y, le = preprocess_dataset(midi_root=extracted_path)\n",
        "\n",
        "  if X_lstm is not None:\n",
        "    save_data(X_lstm, y, le, path='lstm_data.pkl')\n",
        "    save_data(X_cnn, y, le, path='cnn_data.pkl')\n",
        "  else:\n",
        "    print(\"Preprocessing failed. Check dataset format/contents.\")"
      ]
    },
    {
      "cell_type": "code",
      "execution_count": 2,
      "metadata": {
        "id": "BuSgYcI_cGwr"
      },
      "outputs": [
        {
          "ename": "NameError",
          "evalue": "name 'zipfile' is not defined",
          "output_type": "error",
          "traceback": [
            "\u001b[0;31m---------------------------------------------------------------------------\u001b[0m",
            "\u001b[0;31mNameError\u001b[0m                                 Traceback (most recent call last)",
            "Cell \u001b[0;32mIn[2], line 6\u001b[0m\n\u001b[1;32m      3\u001b[0m   \u001b[38;5;28;01mwith\u001b[39;00m zipfile\u001b[38;5;241m.\u001b[39mZipFile(output_path, \u001b[38;5;124m'\u001b[39m\u001b[38;5;124mw\u001b[39m\u001b[38;5;124m'\u001b[39m, zipfile\u001b[38;5;241m.\u001b[39mZIP_DEFLATED) \u001b[38;5;28;01mas\u001b[39;00m zipf:\n\u001b[1;32m      4\u001b[0m     zipf\u001b[38;5;241m.\u001b[39mwrite(input_path, arcname\u001b[38;5;241m=\u001b[39mos\u001b[38;5;241m.\u001b[39mpath\u001b[38;5;241m.\u001b[39mbasename(input_path))\n\u001b[0;32m----> 6\u001b[0m \u001b[43mzip_file\u001b[49m\u001b[43m(\u001b[49m\u001b[38;5;124;43m'\u001b[39;49m\u001b[38;5;124;43mcnn_data.pkl\u001b[39;49m\u001b[38;5;124;43m'\u001b[39;49m\u001b[43m,\u001b[49m\u001b[43m \u001b[49m\u001b[38;5;124;43m'\u001b[39;49m\u001b[38;5;124;43mcnn_data.zip\u001b[39;49m\u001b[38;5;124;43m'\u001b[39;49m\u001b[43m)\u001b[49m\n",
            "Cell \u001b[0;32mIn[2], line 3\u001b[0m, in \u001b[0;36mzip_file\u001b[0;34m(input_path, output_path)\u001b[0m\n\u001b[1;32m      2\u001b[0m \u001b[38;5;28;01mdef\u001b[39;00m \u001b[38;5;21mzip_file\u001b[39m(input_path, output_path):\n\u001b[0;32m----> 3\u001b[0m   \u001b[38;5;28;01mwith\u001b[39;00m \u001b[43mzipfile\u001b[49m\u001b[38;5;241m.\u001b[39mZipFile(output_path, \u001b[38;5;124m'\u001b[39m\u001b[38;5;124mw\u001b[39m\u001b[38;5;124m'\u001b[39m, zipfile\u001b[38;5;241m.\u001b[39mZIP_DEFLATED) \u001b[38;5;28;01mas\u001b[39;00m zipf:\n\u001b[1;32m      4\u001b[0m     zipf\u001b[38;5;241m.\u001b[39mwrite(input_path, arcname\u001b[38;5;241m=\u001b[39mos\u001b[38;5;241m.\u001b[39mpath\u001b[38;5;241m.\u001b[39mbasename(input_path))\n",
            "\u001b[0;31mNameError\u001b[0m: name 'zipfile' is not defined"
          ]
        }
      ],
      "source": [
        "# Zip large files\n",
        "def zip_file(input_path, output_path):\n",
        "  with zipfile.ZipFile(output_path, 'w', zipfile.ZIP_DEFLATED) as zipf:\n",
        "    zipf.write(input_path, arcname=os.path.basename(input_path))\n",
        "\n",
        "zip_file('cnn_data.pkl', 'cnn_data.zip')"
      ]
    },
    {
      "cell_type": "code",
      "execution_count": 3,
      "metadata": {
        "id": "-jDV-7vk2TXY"
      },
      "outputs": [],
      "source": [
        "with open('lstm_data.pkl', 'rb') as f:\n",
        "  X, y, le = pickle.load(f)"
      ]
    },
    {
      "cell_type": "code",
      "execution_count": 4,
      "metadata": {
        "colab": {
          "base_uri": "https://localhost:8080/"
        },
        "id": "rf60aCW_3INL",
        "outputId": "27f4d905-a14b-4f4c-936f-561a92877098"
      },
      "outputs": [
        {
          "name": "stdout",
          "output_type": "stream",
          "text": [
            "X shape: (0,)\n",
            "y shape: (0,)\n",
            "X dtype: float32\n"
          ]
        },
        {
          "ename": "IndexError",
          "evalue": "index 0 is out of bounds for axis 0 with size 0",
          "output_type": "error",
          "traceback": [
            "\u001b[0;31m---------------------------------------------------------------------------\u001b[0m",
            "\u001b[0;31mIndexError\u001b[0m                                Traceback (most recent call last)",
            "Cell \u001b[0;32mIn[4], line 5\u001b[0m\n\u001b[1;32m      2\u001b[0m \u001b[38;5;28mprint\u001b[39m(\u001b[38;5;124m'\u001b[39m\u001b[38;5;124my shape:\u001b[39m\u001b[38;5;124m'\u001b[39m, y\u001b[38;5;241m.\u001b[39mshape)\n\u001b[1;32m      4\u001b[0m \u001b[38;5;28mprint\u001b[39m(\u001b[38;5;124m\"\u001b[39m\u001b[38;5;124mX dtype:\u001b[39m\u001b[38;5;124m\"\u001b[39m, X\u001b[38;5;241m.\u001b[39mdtype)\n\u001b[0;32m----> 5\u001b[0m \u001b[38;5;28mprint\u001b[39m(\u001b[38;5;124m\"\u001b[39m\u001b[38;5;124mFirst input sample:\u001b[39m\u001b[38;5;130;01m\\n\u001b[39;00m\u001b[38;5;124m\"\u001b[39m, \u001b[43mX\u001b[49m\u001b[43m[\u001b[49m\u001b[38;5;241;43m0\u001b[39;49m\u001b[43m]\u001b[49m)   \u001b[38;5;66;03m# 50x3 matrix\u001b[39;00m\n\u001b[1;32m      6\u001b[0m \u001b[38;5;28mprint\u001b[39m(\u001b[38;5;124m\"\u001b[39m\u001b[38;5;124mFirst label (encoded):\u001b[39m\u001b[38;5;124m\"\u001b[39m, y[\u001b[38;5;241m0\u001b[39m])\n\u001b[1;32m      7\u001b[0m \u001b[38;5;28mprint\u001b[39m(\u001b[38;5;124m\"\u001b[39m\u001b[38;5;124mFirst label (composer):\u001b[39m\u001b[38;5;124m\"\u001b[39m, le\u001b[38;5;241m.\u001b[39minverse_transform([y[\u001b[38;5;241m0\u001b[39m]])[\u001b[38;5;241m0\u001b[39m])\n",
            "\u001b[0;31mIndexError\u001b[0m: index 0 is out of bounds for axis 0 with size 0"
          ]
        }
      ],
      "source": [
        "print('X shape:', X.shape)\n",
        "print('y shape:', y.shape)\n",
        "\n",
        "print(\"X dtype:\", X.dtype)\n",
        "print(\"First input sample:\\n\", X[0])   # 50x3 matrix\n",
        "print(\"First label (encoded):\", y[0])\n",
        "print(\"First label (composer):\", le.inverse_transform([y[0]])[0])"
      ]
    },
    {
      "cell_type": "code",
      "execution_count": null,
      "metadata": {},
      "outputs": [],
      "source": []
    }
  ],
  "metadata": {
    "accelerator": "TPU",
    "colab": {
      "gpuType": "V6E1",
      "machine_shape": "hm",
      "provenance": []
    },
    "kernelspec": {
      "display_name": "Python 3",
      "name": "python3"
    },
    "language_info": {
      "codemirror_mode": {
        "name": "ipython",
        "version": 3
      },
      "file_extension": ".py",
      "mimetype": "text/x-python",
      "name": "python",
      "nbconvert_exporter": "python",
      "pygments_lexer": "ipython3",
      "version": "3.12.4"
    }
  },
  "nbformat": 4,
  "nbformat_minor": 0
}
