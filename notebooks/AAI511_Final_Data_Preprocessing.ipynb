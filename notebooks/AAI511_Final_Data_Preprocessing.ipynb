{
  "nbformat": 4,
  "nbformat_minor": 0,
  "metadata": {
    "colab": {
      "provenance": [],
      "machine_shape": "hm",
      "gpuType": "V6E1"
    },
    "kernelspec": {
      "name": "python3",
      "display_name": "Python 3"
    },
    "language_info": {
      "name": "python"
    },
    "accelerator": "TPU"
  },
  "cells": [
    {
      "cell_type": "markdown",
      "source": [],
      "metadata": {
        "id": "IactQp48t2nI"
      }
    },
    {
      "cell_type": "code",
      "execution_count": 14,
      "metadata": {
        "colab": {
          "base_uri": "https://localhost:8080/"
        },
        "collapsed": true,
        "id": "KCJyJkXSt051",
        "outputId": "da4868b5-6731-4b83-c8bb-bcd7978a3840"
      },
      "outputs": [
        {
          "output_type": "stream",
          "name": "stdout",
          "text": [
            "Requirement already satisfied: pretty_midi in /usr/local/lib/python3.11/dist-packages (0.2.10)\n",
            "Requirement already satisfied: music21 in /usr/local/lib/python3.11/dist-packages (9.7.1)\n",
            "Requirement already satisfied: numpy in /usr/local/lib/python3.11/dist-packages (2.0.2)\n",
            "Requirement already satisfied: pandas in /usr/local/lib/python3.11/dist-packages (2.2.2)\n",
            "Requirement already satisfied: matplotlib in /usr/local/lib/python3.11/dist-packages (3.10.0)\n",
            "Requirement already satisfied: scikit-learn in /usr/local/lib/python3.11/dist-packages (1.6.1)\n",
            "Requirement already satisfied: mido>=1.1.16 in /usr/local/lib/python3.11/dist-packages (from pretty_midi) (1.3.3)\n",
            "Requirement already satisfied: six in /usr/local/lib/python3.11/dist-packages (from pretty_midi) (1.17.0)\n",
            "Requirement already satisfied: chardet in /usr/local/lib/python3.11/dist-packages (from music21) (5.2.0)\n",
            "Requirement already satisfied: joblib in /usr/local/lib/python3.11/dist-packages (from music21) (1.5.1)\n",
            "Requirement already satisfied: jsonpickle in /usr/local/lib/python3.11/dist-packages (from music21) (4.1.1)\n",
            "Requirement already satisfied: more-itertools in /usr/lib/python3/dist-packages (from music21) (8.10.0)\n",
            "Requirement already satisfied: requests in /usr/local/lib/python3.11/dist-packages (from music21) (2.32.3)\n",
            "Requirement already satisfied: webcolors>=1.5 in /usr/local/lib/python3.11/dist-packages (from music21) (24.11.1)\n",
            "Requirement already satisfied: python-dateutil>=2.8.2 in /usr/local/lib/python3.11/dist-packages (from pandas) (2.9.0.post0)\n",
            "Requirement already satisfied: pytz>=2020.1 in /usr/local/lib/python3.11/dist-packages (from pandas) (2025.2)\n",
            "Requirement already satisfied: tzdata>=2022.7 in /usr/local/lib/python3.11/dist-packages (from pandas) (2025.2)\n",
            "Requirement already satisfied: contourpy>=1.0.1 in /usr/local/lib/python3.11/dist-packages (from matplotlib) (1.3.2)\n",
            "Requirement already satisfied: cycler>=0.10 in /usr/local/lib/python3.11/dist-packages (from matplotlib) (0.12.1)\n",
            "Requirement already satisfied: fonttools>=4.22.0 in /usr/local/lib/python3.11/dist-packages (from matplotlib) (4.58.5)\n",
            "Requirement already satisfied: kiwisolver>=1.3.1 in /usr/local/lib/python3.11/dist-packages (from matplotlib) (1.4.8)\n",
            "Requirement already satisfied: packaging>=20.0 in /usr/local/lib/python3.11/dist-packages (from matplotlib) (25.0)\n",
            "Requirement already satisfied: pillow>=8 in /usr/local/lib/python3.11/dist-packages (from matplotlib) (11.3.0)\n",
            "Requirement already satisfied: pyparsing>=2.3.1 in /usr/local/lib/python3.11/dist-packages (from matplotlib) (3.2.3)\n",
            "Requirement already satisfied: scipy>=1.6.0 in /usr/local/lib/python3.11/dist-packages (from scikit-learn) (1.15.3)\n",
            "Requirement already satisfied: threadpoolctl>=3.1.0 in /usr/local/lib/python3.11/dist-packages (from scikit-learn) (3.6.0)\n",
            "Requirement already satisfied: charset-normalizer<4,>=2 in /usr/local/lib/python3.11/dist-packages (from requests->music21) (3.4.2)\n",
            "Requirement already satisfied: idna<4,>=2.5 in /usr/local/lib/python3.11/dist-packages (from requests->music21) (3.10)\n",
            "Requirement already satisfied: urllib3<3,>=1.21.1 in /usr/local/lib/python3.11/dist-packages (from requests->music21) (2.4.0)\n",
            "Requirement already satisfied: certifi>=2017.4.17 in /usr/local/lib/python3.11/dist-packages (from requests->music21) (2025.7.14)\n"
          ]
        }
      ],
      "source": [
        "# Environment setup\n",
        "!pip install pretty_midi music21 numpy pandas matplotlib scikit-learn"
      ]
    },
    {
      "cell_type": "code",
      "source": [
        "# Imports\n",
        "import os\n",
        "import zipfile\n",
        "import numpy as np\n",
        "import pretty_midi\n",
        "import pickle\n",
        "\n",
        "from sklearn.preprocessing import LabelEncoder\n",
        "from tqdm import tqdm"
      ],
      "metadata": {
        "id": "yPKrVbK5uAqe"
      },
      "execution_count": 15,
      "outputs": []
    },
    {
      "cell_type": "code",
      "source": [
        "# Config\n",
        "SEQUENCE_LENGTH = 50 # input for LSTM and CNN\n",
        "MAX_SEQUENCES_PER_FILE = 50\n",
        "MIDI_DIR = 'dataset'"
      ],
      "metadata": {
        "id": "8R1l1qOoMS5P"
      },
      "execution_count": 16,
      "outputs": []
    },
    {
      "cell_type": "code",
      "source": [
        "# Unzip dataset\n",
        "def extract_zip(zip_path, extract_to):\n",
        "  # if not os.path.exists(extract_to):\n",
        "  #   os.makedirs(extract_to)\n",
        "  with zipfile.ZipFile(zip_path, 'r') as zip_ref:\n",
        "    zip_ref.extractall(extract_to)\n",
        "  print(f\"Extracted zip contents to '{extract_to}\")\n",
        "\n",
        "# Check unzipped (debug)\n",
        "# for root, dirs, files in os.walk('dataset'):\n",
        "#   for file in files:\n",
        "#     if file.endswith('.mid') or file. endswith('.midi'):\n",
        "#       print(os.path.join(root, file))"
      ],
      "metadata": {
        "id": "lD_M3pxdy44B"
      },
      "execution_count": 17,
      "outputs": []
    },
    {
      "cell_type": "markdown",
      "source": [
        "### Load MIDI Files"
      ],
      "metadata": {
        "id": "nY-oLhYpQBHu"
      }
    },
    {
      "cell_type": "code",
      "source": [
        "#\n",
        "def load_midi_files(midi_root):\n",
        "  midi_data = []\n",
        "  filenames = []\n",
        "  for composer in os.listdir(midi_root):\n",
        "    composer_dir = os.path.join(midi_root, composer)\n",
        "    if os.path.isdir(composer_dir):\n",
        "      for file in os.listdir(composer_dir):\n",
        "        if file.endswith('.mid') or file.endswith('.midi'):\n",
        "          path = os.path.join(composer_dir, file)\n",
        "          try:\n",
        "            midi = pretty_midi.PrettyMIDI(path)\n",
        "            midi_data.append((file, midi))\n",
        "            filenames.append(file)\n",
        "          except Exception as e:\n",
        "            print(f\"Skipping {file}: {e}\")\n",
        "  return midi_data, filenames"
      ],
      "metadata": {
        "id": "LxkwTc7iMoFh"
      },
      "execution_count": 18,
      "outputs": []
    },
    {
      "cell_type": "markdown",
      "source": [
        "### Extract Features\n"
      ],
      "metadata": {
        "id": "4Q3SkJy6NmaB"
      }
    },
    {
      "cell_type": "code",
      "source": [
        "def extract_note_sequence(midi):\n",
        "  notes = []\n",
        "  for instrument in midi.instruments:\n",
        "    if not instrument.is_drum:\n",
        "      for note in instrument.notes:\n",
        "        notes.append({\n",
        "            'start': note.start,\n",
        "            'pitch': note.pitch,\n",
        "            'duration': note.end - note.start,\n",
        "            'velocity': note.velocity\n",
        "        })\n",
        "  # Sorting by time:\n",
        "  notes.sort(key=lambda n: n['start'])\n",
        "  return notes"
      ],
      "metadata": {
        "id": "doTh7H-vDqGz"
      },
      "execution_count": 19,
      "outputs": []
    },
    {
      "cell_type": "markdown",
      "source": [
        "### Make Sequences (LSTM/RNN)"
      ],
      "metadata": {
        "id": "ivQhNH1AQQIg"
      }
    },
    {
      "cell_type": "code",
      "source": [
        "def make_feature_sequences(notes, seq_len=SEQUENCE_LENGTH):\n",
        "  sequence = []\n",
        "  for i in range(len(notes) - seq_len):\n",
        "    seq = notes[i:i + seq_len]\n",
        "    sequence.append(seq)\n",
        "  return sequence"
      ],
      "metadata": {
        "id": "KsJpiTIUQWrp"
      },
      "execution_count": 20,
      "outputs": []
    },
    {
      "cell_type": "markdown",
      "source": [
        "### Make Piano Rolls (CNN)"
      ],
      "metadata": {
        "id": "JFg0K72S7YCE"
      }
    },
    {
      "cell_type": "code",
      "source": [
        "# Notes to piano rolls\n",
        "def notes_to_piano_roll(notes, seq_len=SEQUENCE_LENGTH, pitch_range=(21, 109)):\n",
        "  roll = np.zeros((seq_len, pitch_range[1] - pitch_range[0])) # 50 * 88\n",
        "\n",
        "  for i, note in enumerate(notes[:seq_len]):\n",
        "    pitch = note['pitch']\n",
        "    if pitch_range[0] <= pitch < pitch_range[1]:\n",
        "      roll[i, pitch - pitch_range[0]] = 1.0\n",
        "  return roll"
      ],
      "metadata": {
        "id": "6Zso59_e7fuU"
      },
      "execution_count": 21,
      "outputs": []
    },
    {
      "cell_type": "markdown",
      "source": [
        "### Normalize Features"
      ],
      "metadata": {
        "id": "VZZC3haLRFSK"
      }
    },
    {
      "cell_type": "code",
      "source": [
        "def normalize(sequences):\n",
        "  # Pitch: 0-127 -> [0, 1]\n",
        "  # Duration: scale to [0, 1]\n",
        "  # Velocity: 0-127 -> [0, 1]\n",
        "  all_durations = [step[1] for seq in sequences for step in seq]\n",
        "  max_duration = max(all_durations) if all_durations else 1.0\n",
        "  normalized = []\n",
        "  for seq in sequences:\n",
        "    norm_seq = np.copy(seq)\n",
        "    norm_seq[:, 0] /= 127.0         # pitch\n",
        "    norm_seq[:, 1] /= max_duration  # duration\n",
        "    norm_seq[:, 2] /= 127.0         # velocity\n",
        "    normalized.append(norm_seq)\n",
        "  return normalized"
      ],
      "metadata": {
        "id": "U4_SUpmZHFXD"
      },
      "execution_count": 22,
      "outputs": []
    },
    {
      "cell_type": "markdown",
      "source": [
        "### Label Encoding"
      ],
      "metadata": {
        "id": "6qOSsw-oS8wh"
      }
    },
    {
      "cell_type": "code",
      "source": [
        "def extract_labels(filenames):\n",
        "  composers = [name.split('_')[0] for name in filenames]\n",
        "  le = LabelEncoder()\n",
        "  labels = le.fit_transform(composers)\n",
        "  return labels, le"
      ],
      "metadata": {
        "id": "FvLFuHxuGprq"
      },
      "execution_count": 23,
      "outputs": []
    },
    {
      "cell_type": "markdown",
      "source": [
        "### Main Pipeline"
      ],
      "metadata": {
        "id": "Htk5QqxxTZpJ"
      }
    },
    {
      "cell_type": "code",
      "source": [
        "def preprocess_dataset(midi_root=MIDI_DIR, seq_len=SEQUENCE_LENGTH):\n",
        "  print(\"Loading MIDI files\")\n",
        "  midi_data, filenames = load_midi_files(midi_root)\n",
        "\n",
        "  all_lstm_sequences = []\n",
        "  all_cnn_sequences = []\n",
        "  all_labels = []\n",
        "\n",
        "  print(\"Processing MIDI files\")\n",
        "  for filename, midi in tqdm(midi_data):\n",
        "    notes = extract_note_sequence(midi)\n",
        "    if len(notes) < seq_len:\n",
        "      continue # skips shorter sequences\n",
        "\n",
        "    sequences = make_feature_sequences(notes, seq_len)\n",
        "    piano_rolls = [notes_to_piano_roll(seq) for seq in sequences]\n",
        "\n",
        "    # CNN input\n",
        "    all_cnn_sequences.extend(piano_rolls)\n",
        "\n",
        "    # LSTM input\n",
        "    dicts_to_array = lambda seq: np.array([[n['pitch'], n['duration'], n['velocity']] for n in seq])\n",
        "    array_sequences = [dicts_to_array(seq) for seq in sequences]\n",
        "    normalized_sequences = normalize(array_sequences)\n",
        "    all_lstm_sequences.extend(normalized_sequences[:MAX_SEQUENCES_PER_FILE])\n",
        "\n",
        "    # Labels\n",
        "    all_labels.extend([filename.split('_')[0]] * len(sequences))\n",
        "\n",
        "  if not all_lstm_sequences:\n",
        "    print(\"No valid sequence found. Check MIDI formatting and minimum length.\")\n",
        "    return None, None, None, None\n",
        "\n",
        "  # Label encoding\n",
        "  print(\"Encoding labels\")\n",
        "  le = LabelEncoder()\n",
        "  y = le.fit_transform(all_labels)\n",
        "\n",
        "  X_lstm = np.array(all_lstm_sequences, dtype=np.float32)\n",
        "  X_cnn = np.array(all_cnn_sequences)[..., np.newaxis]\n",
        "\n",
        "  print(f\"Final LSTM shape: {X_lstm.shape},\\nFinal CNN shape: {X_cnn.shape},\\nLabels shape: {y.shape}\")\n",
        "  return X_lstm, X_cnn, y, le"
      ],
      "metadata": {
        "id": "-e3TLCGOTaDR"
      },
      "execution_count": 24,
      "outputs": []
    },
    {
      "cell_type": "markdown",
      "source": [
        "### Save Preprocessed Data"
      ],
      "metadata": {
        "id": "AToNSdWPHI_V"
      }
    },
    {
      "cell_type": "code",
      "source": [
        "def save_data(X, y, label_encoder, path):\n",
        "  with open(path, 'wb') as f:\n",
        "    pickle.dump((X, y, label_encoder), f)\n",
        "  print(f\"Saved preprocessed data to {path}\")"
      ],
      "metadata": {
        "id": "xUWbou2T5NMr"
      },
      "execution_count": 25,
      "outputs": []
    },
    {
      "cell_type": "markdown",
      "source": [
        "### Run"
      ],
      "metadata": {
        "id": "UlLtiuF1VqKc"
      }
    },
    {
      "cell_type": "code",
      "source": [
        "if __name__ == '__main__':\n",
        "  zip_path = '/content/train.zip'\n",
        "  extract_path = '.'\n",
        "  extracted_path = '/content/train'\n",
        "\n",
        "  extract_zip(zip_path, extract_to=extract_path)\n",
        "\n",
        "  # Preprocess extracted data\n",
        "  X_lstm, X_cnn, y, le = preprocess_dataset(midi_root=extracted_path)\n",
        "\n",
        "  if X_lstm is not None:\n",
        "    save_data(X_lstm, y, le, path='lstm_data.pkl')\n",
        "    save_data(X_cnn, y, le, path='cnn_data.pkl')\n",
        "  else:\n",
        "    print(\"Preprocessing failed. Check dataset format/contents.\")"
      ],
      "metadata": {
        "colab": {
          "base_uri": "https://localhost:8080/"
        },
        "id": "HExQhXXvVtXb",
        "outputId": "4d7402ca-c3aa-4d8b-b775-519498296f83"
      },
      "execution_count": 26,
      "outputs": [
        {
          "output_type": "stream",
          "name": "stdout",
          "text": [
            "Extracted zip contents to '.\n",
            "Loading MIDI files\n"
          ]
        },
        {
          "output_type": "stream",
          "name": "stderr",
          "text": [
            "/usr/local/lib/python3.11/dist-packages/pretty_midi/pretty_midi.py:100: RuntimeWarning: Tempo, Key or Time signature change events found on non-zero tracks.  This is not a valid type 0 or type 1 MIDI file.  Tempo, Key or Time Signature may be wrong.\n",
            "  warnings.warn(\n"
          ]
        },
        {
          "output_type": "stream",
          "name": "stdout",
          "text": [
            "Processing MIDI files\n"
          ]
        },
        {
          "output_type": "stream",
          "name": "stderr",
          "text": [
            "100%|██████████| 369/369 [01:00<00:00,  6.10it/s]\n"
          ]
        },
        {
          "output_type": "stream",
          "name": "stdout",
          "text": [
            "Encoding labels\n",
            "Final LSTM shape: (18450, 50, 3),\n",
            "Final CNN shape: (1456959, 50, 88, 1),\n",
            "Labels shape: (1456959,)\n",
            "Saved preprocessed data to lstm_data.pkl\n",
            "Saved preprocessed data to cnn_data.pkl\n"
          ]
        }
      ]
    },
    {
      "cell_type": "code",
      "source": [
        "# Zip large files\n",
        "def zip_file(input_path, output_path):\n",
        "  with zipfile.ZipFile(output_path, 'w', zipfile.ZIP_DEFLATED) as zipf:\n",
        "    zipf.write(input_path, arcname=os.path.basename(input_path))\n",
        "\n",
        "zip_file('cnn_data.pkl', 'cnn_data.zip')"
      ],
      "metadata": {
        "id": "BuSgYcI_cGwr"
      },
      "execution_count": 29,
      "outputs": []
    },
    {
      "cell_type": "code",
      "source": [
        "with open('lstm_data.pkl', 'rb') as f:\n",
        "  X, y, le = pickle.load(f)"
      ],
      "metadata": {
        "id": "-jDV-7vk2TXY"
      },
      "execution_count": 27,
      "outputs": []
    },
    {
      "cell_type": "code",
      "source": [
        "print('X shape:', X.shape)\n",
        "print('y shape:', y.shape)\n",
        "\n",
        "print(\"X dtype:\", X.dtype)\n",
        "print(\"First input sample:\\n\", X[0])   # 50x3 matrix\n",
        "print(\"First label (encoded):\", y[0])\n",
        "print(\"First label (composer):\", le.inverse_transform([y[0]])[0])"
      ],
      "metadata": {
        "colab": {
          "base_uri": "https://localhost:8080/"
        },
        "id": "rf60aCW_3INL",
        "outputId": "27f4d905-a14b-4f4c-936f-561a92877098"
      },
      "execution_count": 28,
      "outputs": [
        {
          "output_type": "stream",
          "name": "stdout",
          "text": [
            "X shape: (18450, 50, 3)\n",
            "y shape: (1456959,)\n",
            "X dtype: float32\n",
            "First input sample:\n",
            " [[0.52755904 0.2946015  0.79527557]\n",
            " [0.46456692 0.2946015  0.79527557]\n",
            " [0.48818898 0.2946015  0.79527557]\n",
            " [0.33858266 0.2946015  0.79527557]\n",
            " [0.52755904 0.05086644 0.6929134 ]\n",
            " [0.46456692 0.05086644 0.6929134 ]\n",
            " [0.48818898 0.05086644 0.6929134 ]\n",
            " [0.33858266 0.05086644 0.6929134 ]\n",
            " [0.52755904 0.05086644 0.6929134 ]\n",
            " [0.46456692 0.05086644 0.6929134 ]\n",
            " [0.48818898 0.05086644 0.6929134 ]\n",
            " [0.33858266 0.05086644 0.6929134 ]\n",
            " [0.52755904 0.05086644 0.6929134 ]\n",
            " [0.46456692 0.05086644 0.6929134 ]\n",
            " [0.48818898 0.05086644 0.6929134 ]\n",
            " [0.33858266 0.05086644 0.6929134 ]\n",
            " [0.52755904 0.05086644 0.6929134 ]\n",
            " [0.46456692 0.05086644 0.6929134 ]\n",
            " [0.48818898 0.05086644 0.6929134 ]\n",
            " [0.33858266 0.05086644 0.6929134 ]\n",
            " [0.52755904 0.05086644 0.6929134 ]\n",
            " [0.46456692 0.05086644 0.6929134 ]\n",
            " [0.48818898 0.05086644 0.6929134 ]\n",
            " [0.33858266 0.05086644 0.6929134 ]\n",
            " [0.54330707 0.10173289 0.6929134 ]\n",
            " [0.48818898 0.10173289 0.6929134 ]\n",
            " [0.51968503 0.10173289 0.6929134 ]\n",
            " [0.39370078 0.10173289 0.6929134 ]\n",
            " [0.5590551  0.10173289 0.6929134 ]\n",
            " [0.48818898 0.10173289 0.6929134 ]\n",
            " [0.52755904 0.10173289 0.6929134 ]\n",
            " [0.43307087 0.10173289 0.6929134 ]\n",
            " [0.54330707 0.2946015  0.79527557]\n",
            " [0.48818898 0.2946015  0.79527557]\n",
            " [0.51968503 0.2946015  0.79527557]\n",
            " [0.39370078 0.2946015  0.79527557]\n",
            " [0.54330707 0.05086644 0.6929134 ]\n",
            " [0.48818898 0.05086644 0.6929134 ]\n",
            " [0.51968503 0.05086644 0.6929134 ]\n",
            " [0.39370078 0.05086644 0.6929134 ]\n",
            " [0.54330707 0.05086644 0.6929134 ]\n",
            " [0.48818898 0.05086644 0.6929134 ]\n",
            " [0.51968503 0.05086644 0.6929134 ]\n",
            " [0.39370078 0.05086644 0.6929134 ]\n",
            " [0.54330707 0.05086644 0.6929134 ]\n",
            " [0.48818898 0.05086644 0.6929134 ]\n",
            " [0.51968503 0.05086644 0.6929134 ]\n",
            " [0.39370078 0.05086644 0.6929134 ]\n",
            " [0.56692916 0.09749402 0.6929134 ]\n",
            " [0.48818898 0.19710748 0.6929134 ]]\n",
            "First label (encoded): 226\n",
            "First label (composer): hummel316.mid\n"
          ]
        }
      ]
    }
  ]
}