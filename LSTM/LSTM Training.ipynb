{
 "cells": [
  {
   "cell_type": "markdown",
   "id": "f28b1286",
   "metadata": {},
   "source": [
    "# Loading Data\n"
   ]
  },
  {
   "cell_type": "code",
   "execution_count": 1,
   "id": "0bdf55b6",
   "metadata": {},
   "outputs": [],
   "source": [
    "# loading the data\n",
    "import numpy as np\n",
    "import pickle"
   ]
  },
  {
   "cell_type": "code",
   "execution_count": 13,
   "id": "0c7fa678",
   "metadata": {},
   "outputs": [
    {
     "name": "stdout",
     "output_type": "stream",
     "text": [
      "X_lstm shape: (0,)\n",
      "X_lstm type: float32\n",
      "Any NaNs in X-lstm? 0\n",
      "\n",
      "y shape: (0,)\n",
      "y dtype: float64\n"
     ]
    },
    {
     "ename": "TypeError",
     "evalue": "Cannot cast array data from dtype('float64') to dtype('int64') according to the rule 'safe'",
     "output_type": "error",
     "traceback": [
      "\u001b[0;31m---------------------------------------------------------------------------\u001b[0m",
      "\u001b[0;31mTypeError\u001b[0m                                 Traceback (most recent call last)",
      "Cell \u001b[0;32mIn[13], line 10\u001b[0m\n\u001b[1;32m      8\u001b[0m \u001b[38;5;28mprint\u001b[39m(\u001b[38;5;124mf\u001b[39m\u001b[38;5;124m\"\u001b[39m\u001b[38;5;130;01m\\n\u001b[39;00m\u001b[38;5;124my shape: \u001b[39m\u001b[38;5;132;01m{\u001b[39;00my\u001b[38;5;241m.\u001b[39mshape\u001b[38;5;132;01m}\u001b[39;00m\u001b[38;5;124m\"\u001b[39m)             \n\u001b[1;32m      9\u001b[0m \u001b[38;5;28mprint\u001b[39m(\u001b[38;5;124mf\u001b[39m\u001b[38;5;124m'\u001b[39m\u001b[38;5;124my dtype: \u001b[39m\u001b[38;5;132;01m{\u001b[39;00my\u001b[38;5;241m.\u001b[39mdtype\u001b[38;5;132;01m}\u001b[39;00m\u001b[38;5;124m'\u001b[39m)               \n\u001b[0;32m---> 10\u001b[0m \u001b[38;5;28mprint\u001b[39m(\u001b[38;5;124mf\u001b[39m\u001b[38;5;124m\"\u001b[39m\u001b[38;5;124mLabel counts: \u001b[39m\u001b[38;5;132;01m{\u001b[39;00m\u001b[43mnp\u001b[49m\u001b[38;5;241;43m.\u001b[39;49m\u001b[43mbincount\u001b[49m\u001b[43m(\u001b[49m\u001b[43my\u001b[49m\u001b[43m)\u001b[49m\u001b[38;5;132;01m}\u001b[39;00m\u001b[38;5;124m\"\u001b[39m)    \n\u001b[1;32m     12\u001b[0m \u001b[38;5;28mprint\u001b[39m(\u001b[38;5;124mf\u001b[39m\u001b[38;5;124m\"\u001b[39m\u001b[38;5;130;01m\\n\u001b[39;00m\u001b[38;5;124mComposer classes: \u001b[39m\u001b[38;5;132;01m{\u001b[39;00mle\u001b[38;5;241m.\u001b[39mclasses_\u001b[38;5;132;01m}\u001b[39;00m\u001b[38;5;124m\"\u001b[39m)\n",
      "\u001b[0;31mTypeError\u001b[0m: Cannot cast array data from dtype('float64') to dtype('int64') according to the rule 'safe'"
     ]
    }
   ],
   "source": [
    "with open('../data/processed_data/lstm_data.pkl', 'rb') as f:\n",
    "    X_lstm,y,le=pickle.load(f)\n",
    "\n",
    "print(f'X_lstm shape: {X_lstm.shape}')\n",
    "print(f'X_lstm type: {X_lstm.dtype}')\n",
    "print(f'Any NaNs in X-lstm? {np.isnan(X_lstm).sum()}')\n",
    "\n",
    "print(f\"\\ny shape: {y.shape}\")             \n",
    "print(f'y dtype: {y.dtype}')               \n",
    "print(f\"Label counts: {np.bincount(y)}\")    \n",
    "\n",
    "print(f\"\\nComposer classes: {le.classes_}\")"
   ]
  },
  {
   "cell_type": "code",
   "execution_count": 11,
   "id": "70f47cb4",
   "metadata": {},
   "outputs": [
    {
     "name": "stdout",
     "output_type": "stream",
     "text": [
      "['LSTM Training.ipynb']\n",
      "<class 'tuple'> 3\n",
      "[<class 'numpy.ndarray'>, <class 'numpy.ndarray'>, <class 'sklearn.preprocessing._label.LabelEncoder'>]\n"
     ]
    }
   ],
   "source": [
    "import os\n",
    "print(os.listdir('.'))\n",
    "# make sure you see both lstm_data.pkl and cnn_data.pkl here\n",
    "import pickle\n",
    "with open('../data/processed_data/lstm_data.pkl','rb') as f:\n",
    "    data = pickle.load(f)\n",
    "print(type(data), len(data))    # should show a tuple of length 3\n",
    "print([type(x) for x in data])"
   ]
  },
  {
   "cell_type": "code",
   "execution_count": 12,
   "id": "b8c8ad58",
   "metadata": {},
   "outputs": [
    {
     "name": "stdout",
     "output_type": "stream",
     "text": [
      "Contents of ../data/processed_data : ['AAI511_Final_Data_Preprocessing.ipynb', 'lstm_data.pkl']\n",
      "\n",
      "Loaded X_lstm shape: (18450, 50, 3)\n",
      "Loaded y shape:     (1456959,)\n",
      "Match?              False\n"
     ]
    }
   ],
   "source": [
    "# Step 1.1 – confirm the file is where you say it is\n",
    "import os\n",
    "data_dir = '../data/processed_data'\n",
    "print(\"Contents of\", data_dir, \":\", os.listdir(data_dir))\n",
    "\n",
    "# Step 1.2 – load from the correct path\n",
    "import pickle\n",
    "with open(os.path.join(data_dir, 'lstm_data.pkl'), 'rb') as f:\n",
    "    X_lstm, y, le = pickle.load(f)\n",
    "\n",
    "# Step 1.3 – inspect shapes\n",
    "print(\"\\nLoaded X_lstm shape:\", X_lstm.shape)\n",
    "print(\"Loaded y shape:    \", y.shape)\n",
    "print(\"Match?             \", X_lstm.shape[0] == y.shape[0])"
   ]
  },
  {
   "cell_type": "code",
   "execution_count": null,
   "id": "2442618b",
   "metadata": {},
   "outputs": [],
   "source": []
  }
 ],
 "metadata": {
  "kernelspec": {
   "display_name": "Python 3",
   "language": "python",
   "name": "python3"
  },
  "language_info": {
   "codemirror_mode": {
    "name": "ipython",
    "version": 3
   },
   "file_extension": ".py",
   "mimetype": "text/x-python",
   "name": "python",
   "nbconvert_exporter": "python",
   "pygments_lexer": "ipython3",
   "version": "3.12.4"
  }
 },
 "nbformat": 4,
 "nbformat_minor": 5
}
