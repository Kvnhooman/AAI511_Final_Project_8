{
 "cells": [
  {
   "cell_type": "code",
   "execution_count": 1,
   "id": "ffc20308",
   "metadata": {},
   "outputs": [
    {
     "name": "stdout",
     "output_type": "stream",
     "text": [
      "BASE_DIR: /Users/Kevin/Library/Mobile Documents/com~apple~CloudDocs/MS in AI/Neural Networks and Deep Learning AAI-511/Final Project/AAI511_Final_Project_8/data\n",
      "Contents of data folder: ['.DS_Store', 'test', 'processed_data', 'train', 'dev']\n"
     ]
    }
   ],
   "source": [
    "import pickle\n",
    "import numpy as np\n",
    "import pretty_midi\n",
    "from pathlib import Path\n",
    "from sklearn.preprocessing import LabelEncoder\n",
    "\n",
    "# Fixed list of composers & splits\n",
    "COMPOSERS       = ['bach', 'beethoven', 'chopin', 'mozart']\n",
    "SPLITS          = ['train', 'dev', 'test']\n",
    "SEQUENCE_LENGTH = 50\n",
    "\n",
    "# ← YOUR absolute data folder:\n",
    "BASE_DIR = Path(\n",
    "    \"/Users/Kevin/Library/Mobile Documents/com~apple~CloudDocs/\"\n",
    "    \"MS in AI/Neural Networks and Deep Learning AAI-511/\"\n",
    "    \"Final Project/AAI511_Final_Project_8/data\"\n",
    ")\n",
    "OUTPUT_DIR = BASE_DIR / 'processed_data'\n",
    "OUTPUT_DIR.mkdir(parents=True, exist_ok=True)\n",
    "\n",
    "# Prepare a LabelEncoder for our four composers\n",
    "le = LabelEncoder().fit(COMPOSERS)\n",
    "\n",
    "# Quick sanity check\n",
    "print(\"BASE_DIR:\", BASE_DIR)\n",
    "print(\"Contents of data folder:\", [p.name for p in BASE_DIR.iterdir()])"
   ]
  },
  {
   "cell_type": "code",
   "execution_count": 2,
   "id": "13dcf31c",
   "metadata": {},
   "outputs": [],
   "source": [
    "def extract_note_sequence(pm_obj):\n",
    "    \"\"\"\n",
    "    Flatten non-drum notes into a sorted list of dicts:\n",
    "    'start', 'pitch', 'duration', 'velocity'\n",
    "    \"\"\"\n",
    "    notes = []\n",
    "    for inst in pm_obj.instruments:\n",
    "        if not inst.is_drum:\n",
    "            for n in inst.notes:\n",
    "                notes.append({\n",
    "                    'start':    n.start,\n",
    "                    'pitch':    n.pitch,\n",
    "                    'duration': n.end - n.start,\n",
    "                    'velocity': n.velocity\n",
    "                })\n",
    "    notes.sort(key=lambda x: x['start'])\n",
    "    return notes\n",
    "\n",
    "def make_feature_sequences(notes, seq_len=SEQUENCE_LENGTH):\n",
    "    \"\"\"\n",
    "    Slide a window of length seq_len over the notes list,\n",
    "    returning a list of (seq_len × 3) float32 arrays.\n",
    "    \"\"\"\n",
    "    seqs = []\n",
    "    for i in range(len(notes) - seq_len + 1):\n",
    "        window = notes[i:i + seq_len]\n",
    "        arr = np.array([[n['pitch'], n['duration'], n['velocity']] \n",
    "                        for n in window], dtype=np.float32)\n",
    "        seqs.append(arr)\n",
    "    return seqs"
   ]
  },
  {
   "cell_type": "code",
   "execution_count": 3,
   "id": "27720b27",
   "metadata": {},
   "outputs": [
    {
     "name": "stdout",
     "output_type": "stream",
     "text": [
      "\n",
      "▶ Processing split: train  (looking in /Users/Kevin/Library/Mobile Documents/com~apple~CloudDocs/MS in AI/Neural Networks and Deep Learning AAI-511/Final Project/AAI511_Final_Project_8/data/train)\n",
      "  ⚠️  /Users/Kevin/Library/Mobile Documents/com~apple~CloudDocs/MS in AI/Neural Networks and Deep Learning AAI-511/Final Project/AAI511_Final_Project_8/data/train/beethoven not found, skipping\n"
     ]
    },
    {
     "name": "stderr",
     "output_type": "stream",
     "text": [
      "/Library/Frameworks/Python.framework/Versions/3.12/lib/python3.12/site-packages/pretty_midi/pretty_midi.py:100: RuntimeWarning: Tempo, Key or Time signature change events found on non-zero tracks.  This is not a valid type 0 or type 1 MIDI file.  Tempo, Key or Time Signature may be wrong.\n",
      "  warnings.warn(\n"
     ]
    },
    {
     "name": "stdout",
     "output_type": "stream",
     "text": [
      "  → train: extracted 480044 windows of shape (50, 3)\n",
      "  ✅ Saved train to /Users/Kevin/Library/Mobile Documents/com~apple~CloudDocs/MS in AI/Neural Networks and Deep Learning AAI-511/Final Project/AAI511_Final_Project_8/data/processed_data/lstm_train.pkl\n",
      "\n",
      "▶ Processing split: dev  (looking in /Users/Kevin/Library/Mobile Documents/com~apple~CloudDocs/MS in AI/Neural Networks and Deep Learning AAI-511/Final Project/AAI511_Final_Project_8/data/dev)\n",
      "  ⚠️  /Users/Kevin/Library/Mobile Documents/com~apple~CloudDocs/MS in AI/Neural Networks and Deep Learning AAI-511/Final Project/AAI511_Final_Project_8/data/dev/beethoven not found, skipping\n"
     ]
    },
    {
     "name": "stderr",
     "output_type": "stream",
     "text": [
      "/Library/Frameworks/Python.framework/Versions/3.12/lib/python3.12/site-packages/pretty_midi/pretty_midi.py:100: RuntimeWarning: Tempo, Key or Time signature change events found on non-zero tracks.  This is not a valid type 0 or type 1 MIDI file.  Tempo, Key or Time Signature may be wrong.\n",
      "  warnings.warn(\n"
     ]
    },
    {
     "name": "stdout",
     "output_type": "stream",
     "text": [
      "  → dev: extracted 41034 windows of shape (50, 3)\n",
      "  ✅ Saved dev to /Users/Kevin/Library/Mobile Documents/com~apple~CloudDocs/MS in AI/Neural Networks and Deep Learning AAI-511/Final Project/AAI511_Final_Project_8/data/processed_data/lstm_dev.pkl\n",
      "\n",
      "▶ Processing split: test  (looking in /Users/Kevin/Library/Mobile Documents/com~apple~CloudDocs/MS in AI/Neural Networks and Deep Learning AAI-511/Final Project/AAI511_Final_Project_8/data/test)\n",
      "  ⚠️  /Users/Kevin/Library/Mobile Documents/com~apple~CloudDocs/MS in AI/Neural Networks and Deep Learning AAI-511/Final Project/AAI511_Final_Project_8/data/test/beethoven not found, skipping\n"
     ]
    },
    {
     "name": "stderr",
     "output_type": "stream",
     "text": [
      "/Library/Frameworks/Python.framework/Versions/3.12/lib/python3.12/site-packages/pretty_midi/pretty_midi.py:100: RuntimeWarning: Tempo, Key or Time signature change events found on non-zero tracks.  This is not a valid type 0 or type 1 MIDI file.  Tempo, Key or Time Signature may be wrong.\n",
      "  warnings.warn(\n"
     ]
    },
    {
     "name": "stdout",
     "output_type": "stream",
     "text": [
      "  → test: extracted 39295 windows of shape (50, 3)\n",
      "  ✅ Saved test to /Users/Kevin/Library/Mobile Documents/com~apple~CloudDocs/MS in AI/Neural Networks and Deep Learning AAI-511/Final Project/AAI511_Final_Project_8/data/processed_data/lstm_test.pkl\n"
     ]
    }
   ],
   "source": [
    "for split in SPLITS:\n",
    "    all_seqs, all_labels = [], []\n",
    "    data_dir = BASE_DIR / split\n",
    "    print(f\"\\n▶ Processing split: {split}  (looking in {data_dir})\")\n",
    "\n",
    "    for composer in COMPOSERS:\n",
    "        composer_dir = data_dir / composer\n",
    "        if not composer_dir.exists():\n",
    "            print(f\"  ⚠️  {composer_dir} not found, skipping\")\n",
    "            continue\n",
    "\n",
    "        for midi_file in composer_dir.glob('*.mid'):\n",
    "            try:\n",
    "                pm    = pretty_midi.PrettyMIDI(str(midi_file))\n",
    "                notes = extract_note_sequence(pm)\n",
    "                if len(notes) < SEQUENCE_LENGTH:\n",
    "                    continue\n",
    "                seqs = make_feature_sequences(notes)\n",
    "                all_seqs.extend(seqs)\n",
    "                all_labels.extend([composer] * len(seqs))\n",
    "            except Exception as e:\n",
    "                print(f\"  ⚠️ Skipping {midi_file.name}: {e}\")\n",
    "\n",
    "    # Convert and encode\n",
    "    X = np.array(all_seqs, dtype=np.float32)\n",
    "    y = le.transform(all_labels)\n",
    "\n",
    "    print(f\"  → {split}: extracted {X.shape[0]} windows of shape {X.shape[1:]}\")\n",
    "\n",
    "    # Save this split’s pickle\n",
    "    out_path = OUTPUT_DIR / f'lstm_{split}.pkl'\n",
    "    with open(out_path, 'wb') as f:\n",
    "        pickle.dump((X, y), f)\n",
    "    print(f\"  ✅ Saved {split} to {out_path}\")"
   ]
  },
  {
   "cell_type": "code",
   "execution_count": 4,
   "id": "cd41a3c9",
   "metadata": {},
   "outputs": [
    {
     "name": "stdout",
     "output_type": "stream",
     "text": [
      "✅ Saved LabelEncoder to /Users/Kevin/Library/Mobile Documents/com~apple~CloudDocs/MS in AI/Neural Networks and Deep Learning AAI-511/Final Project/AAI511_Final_Project_8/data/processed_data/label_encoder.pkl\n"
     ]
    }
   ],
   "source": [
    "with open(OUTPUT_DIR / 'label_encoder.pkl', 'wb') as f:\n",
    "    pickle.dump(le, f)\n",
    "print(\"✅ Saved LabelEncoder to\", OUTPUT_DIR / 'label_encoder.pkl')"
   ]
  },
  {
   "cell_type": "code",
   "execution_count": null,
   "id": "b91e30fe",
   "metadata": {},
   "outputs": [],
   "source": []
  }
 ],
 "metadata": {
  "kernelspec": {
   "display_name": "Python 3",
   "language": "python",
   "name": "python3"
  },
  "language_info": {
   "codemirror_mode": {
    "name": "ipython",
    "version": 3
   },
   "file_extension": ".py",
   "mimetype": "text/x-python",
   "name": "python",
   "nbconvert_exporter": "python",
   "pygments_lexer": "ipython3",
   "version": "3.12.4"
  }
 },
 "nbformat": 4,
 "nbformat_minor": 5
}
