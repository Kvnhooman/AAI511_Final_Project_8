{
 "cells": [
  {
   "cell_type": "code",
   "execution_count": 1,
   "id": "345d4d27",
   "metadata": {
    "execution": {
     "iopub.execute_input": "2025-08-11T05:44:16.597928Z",
     "iopub.status.busy": "2025-08-11T05:44:16.597244Z",
     "iopub.status.idle": "2025-08-11T05:44:16.600910Z",
     "shell.execute_reply": "2025-08-11T05:44:16.600384Z"
    },
    "papermill": {
     "duration": 0.014293,
     "end_time": "2025-08-11T05:44:16.602321",
     "exception": false,
     "start_time": "2025-08-11T05:44:16.588028",
     "status": "completed"
    },
    "tags": [
     "parameters"
    ]
   },
   "outputs": [],
   "source": [
    "KAGGLE_DATASET = \"owner/dataset-slug\"\n",
    "ZIP_FILENAME = None\n",
    "OUTPUT_DIR = \"./processed_data\"\n",
    "TARGET_COMPOSERS = [\"bach\",\"beethoven\",\"chopin\",\"mozart\"]\n"
   ]
  },
  {
   "cell_type": "code",
   "execution_count": 2,
   "id": "ecdabb2a",
   "metadata": {
    "execution": {
     "iopub.execute_input": "2025-08-11T05:44:16.618366Z",
     "iopub.status.busy": "2025-08-11T05:44:16.617771Z",
     "iopub.status.idle": "2025-08-11T05:44:16.621054Z",
     "shell.execute_reply": "2025-08-11T05:44:16.620552Z"
    },
    "papermill": {
     "duration": 0.012241,
     "end_time": "2025-08-11T05:44:16.622321",
     "exception": false,
     "start_time": "2025-08-11T05:44:16.610080",
     "status": "completed"
    },
    "tags": [
     "injected-parameters"
    ]
   },
   "outputs": [],
   "source": [
    "# Parameters\n",
    "KAGGLE_DATASET = \"blanderbuss/midi-classic-music\"\n",
    "ZIP_FILENAME = None\n",
    "OUTPUT_DIR = \"/mnt/data/processed_data\"\n",
    "TARGET_COMPOSERS = [\"bach\", \"beethoven\", \"chopin\", \"mozart\"]\n"
   ]
  },
  {
   "cell_type": "code",
   "execution_count": 3,
   "id": "bbba2b1f",
   "metadata": {
    "execution": {
     "iopub.execute_input": "2025-08-11T05:44:16.638090Z",
     "iopub.status.busy": "2025-08-11T05:44:16.637630Z",
     "iopub.status.idle": "2025-08-11T05:44:16.642187Z",
     "shell.execute_reply": "2025-08-11T05:44:16.641677Z"
    },
    "papermill": {
     "duration": 0.013745,
     "end_time": "2025-08-11T05:44:16.643564",
     "exception": false,
     "start_time": "2025-08-11T05:44:16.629819",
     "status": "completed"
    },
    "tags": []
   },
   "outputs": [
    {
     "name": "stdout",
     "output_type": "stream",
     "text": [
      "KAGGLE_DATASET: blanderbuss/midi-classic-music\n",
      "ZIP_FILENAME: None\n",
      "OUTPUT_DIR: /mnt/data/processed_data\n",
      "TARGET_COMPOSERS: ['bach', 'beethoven', 'chopin', 'mozart']\n"
     ]
    }
   ],
   "source": [
    "# === Parameters (Papermill friendly) ===\n",
    "KAGGLE_DATASET = KAGGLE_DATASET if 'KAGGLE_DATASET' in globals() else 'owner/dataset-slug'\n",
    "ZIP_FILENAME   = ZIP_FILENAME   if 'ZIP_FILENAME'   in globals() else None\n",
    "OUTPUT_DIR     = OUTPUT_DIR     if 'OUTPUT_DIR'     in globals() else '/mnt/data/processed_data'\n",
    "TARGET_COMPOSERS = TARGET_COMPOSERS if 'TARGET_COMPOSERS' in globals() else ['bach','beethoven','chopin','mozart']\n",
    "print(\"KAGGLE_DATASET:\", KAGGLE_DATASET)\n",
    "print(\"ZIP_FILENAME:\", ZIP_FILENAME)\n",
    "print(\"OUTPUT_DIR:\", OUTPUT_DIR)\n",
    "print(\"TARGET_COMPOSERS:\", TARGET_COMPOSERS)\n"
   ]
  },
  {
   "cell_type": "markdown",
   "id": "d0ed0482",
   "metadata": {
    "id": "IactQp48t2nI",
    "papermill": {
     "duration": 0.007095,
     "end_time": "2025-08-11T05:44:16.658117",
     "exception": false,
     "start_time": "2025-08-11T05:44:16.651022",
     "status": "completed"
    },
    "tags": []
   },
   "source": []
  },
  {
   "cell_type": "code",
   "execution_count": 4,
   "id": "874eb8d0",
   "metadata": {
    "colab": {
     "base_uri": "https://localhost:8080/"
    },
    "collapsed": true,
    "execution": {
     "iopub.execute_input": "2025-08-11T05:44:16.673655Z",
     "iopub.status.busy": "2025-08-11T05:44:16.673436Z",
     "iopub.status.idle": "2025-08-11T05:44:19.958269Z",
     "shell.execute_reply": "2025-08-11T05:44:19.957654Z"
    },
    "id": "KCJyJkXSt051",
    "outputId": "6a14979f-af29-48ff-a152-62e6257dc7d7",
    "papermill": {
     "duration": 3.294611,
     "end_time": "2025-08-11T05:44:19.960046",
     "exception": false,
     "start_time": "2025-08-11T05:44:16.665435",
     "status": "completed"
    },
    "tags": []
   },
   "outputs": [
    {
     "name": "stdout",
     "output_type": "stream",
     "text": [
      "Requirement already satisfied: pretty_midi in /usr/local/lib/python3.11/dist-packages (0.2.10)\n",
      "Requirement already satisfied: music21 in /usr/local/lib/python3.11/dist-packages (9.3.0)\n",
      "Requirement already satisfied: numpy in /usr/local/lib/python3.11/dist-packages (2.0.2)\n",
      "Requirement already satisfied: pandas in /usr/local/lib/python3.11/dist-packages (2.2.2)\n",
      "Requirement already satisfied: matplotlib in /usr/local/lib/python3.11/dist-packages (3.10.0)\n",
      "Requirement already satisfied: scikit-learn in /usr/local/lib/python3.11/dist-packages (1.6.1)\n",
      "Requirement already satisfied: mido>=1.1.16 in /usr/local/lib/python3.11/dist-packages (from pretty_midi) (1.3.3)\n",
      "Requirement already satisfied: six in /usr/local/lib/python3.11/dist-packages (from pretty_midi) (1.17.0)\n",
      "Requirement already satisfied: chardet in /usr/local/lib/python3.11/dist-packages (from music21) (5.2.0)\n",
      "Requirement already satisfied: joblib in /usr/local/lib/python3.11/dist-packages (from music21) (1.5.1)\n",
      "Requirement already satisfied: jsonpickle in /usr/local/lib/python3.11/dist-packages (from music21) (4.1.1)\n",
      "Requirement already satisfied: more-itertools in /usr/local/lib/python3.11/dist-packages (from music21) (10.7.0)\n",
      "Requirement already satisfied: requests in /usr/local/lib/python3.11/dist-packages (from music21) (2.32.3)\n",
      "Requirement already satisfied: webcolors>=1.5 in /usr/local/lib/python3.11/dist-packages (from music21) (24.11.1)\n",
      "Requirement already satisfied: python-dateutil>=2.8.2 in /usr/local/lib/python3.11/dist-packages (from pandas) (2.9.0.post0)\n",
      "Requirement already satisfied: pytz>=2020.1 in /usr/local/lib/python3.11/dist-packages (from pandas) (2025.2)\n",
      "Requirement already satisfied: tzdata>=2022.7 in /usr/local/lib/python3.11/dist-packages (from pandas) (2025.2)\n",
      "Requirement already satisfied: contourpy>=1.0.1 in /usr/local/lib/python3.11/dist-packages (from matplotlib) (1.3.3)\n",
      "Requirement already satisfied: cycler>=0.10 in /usr/local/lib/python3.11/dist-packages (from matplotlib) (0.12.1)\n",
      "Requirement already satisfied: fonttools>=4.22.0 in /usr/local/lib/python3.11/dist-packages (from matplotlib) (4.59.0)\n",
      "Requirement already satisfied: kiwisolver>=1.3.1 in /usr/local/lib/python3.11/dist-packages (from matplotlib) (1.4.8)\n",
      "Requirement already satisfied: packaging>=20.0 in /usr/local/lib/python3.11/dist-packages (from matplotlib) (25.0)\n",
      "Requirement already satisfied: pillow>=8 in /usr/local/lib/python3.11/dist-packages (from matplotlib) (11.3.0)\n",
      "Requirement already satisfied: pyparsing>=2.3.1 in /usr/local/lib/python3.11/dist-packages (from matplotlib) (3.2.3)\n",
      "Requirement already satisfied: scipy>=1.6.0 in /usr/local/lib/python3.11/dist-packages (from scikit-learn) (1.16.1)\n",
      "Requirement already satisfied: threadpoolctl>=3.1.0 in /usr/local/lib/python3.11/dist-packages (from scikit-learn) (3.6.0)\n",
      "Requirement already satisfied: charset-normalizer<4,>=2 in /usr/local/lib/python3.11/dist-packages (from requests->music21) (3.4.2)\n",
      "Requirement already satisfied: idna<4,>=2.5 in /usr/local/lib/python3.11/dist-packages (from requests->music21) (3.10)\n",
      "Requirement already satisfied: urllib3<3,>=1.21.1 in /usr/local/lib/python3.11/dist-packages (from requests->music21) (2.5.0)\n",
      "Requirement already satisfied: certifi>=2017.4.17 in /usr/local/lib/python3.11/dist-packages (from requests->music21) (2025.8.3)\n"
     ]
    }
   ],
   "source": [
    "# Environment setup\n",
    "!pip install pretty_midi music21 numpy pandas matplotlib scikit-learn"
   ]
  },
  {
   "cell_type": "code",
   "execution_count": 5,
   "id": "d611baf8",
   "metadata": {
    "execution": {
     "iopub.execute_input": "2025-08-11T05:44:19.977478Z",
     "iopub.status.busy": "2025-08-11T05:44:19.976828Z",
     "iopub.status.idle": "2025-08-11T05:44:21.260803Z",
     "shell.execute_reply": "2025-08-11T05:44:21.260091Z"
    },
    "id": "yPKrVbK5uAqe",
    "papermill": {
     "duration": 1.29409,
     "end_time": "2025-08-11T05:44:21.262544",
     "exception": false,
     "start_time": "2025-08-11T05:44:19.968454",
     "status": "completed"
    },
    "tags": []
   },
   "outputs": [],
   "source": [
    "# Imports\n",
    "import kagglehub\n",
    "import os, zipfile, pickle\n",
    "import numpy as np\n",
    "import pretty_midi\n",
    "\n",
    "from sklearn.preprocessing import LabelEncoder\n",
    "from tqdm import tqdm"
   ]
  },
  {
   "cell_type": "code",
   "execution_count": 6,
   "id": "b96e918b",
   "metadata": {
    "execution": {
     "iopub.execute_input": "2025-08-11T05:44:21.294895Z",
     "iopub.status.busy": "2025-08-11T05:44:21.294454Z",
     "iopub.status.idle": "2025-08-11T05:44:21.298439Z",
     "shell.execute_reply": "2025-08-11T05:44:21.297908Z"
    },
    "id": "8R1l1qOoMS5P",
    "papermill": {
     "duration": 0.014008,
     "end_time": "2025-08-11T05:44:21.299768",
     "exception": false,
     "start_time": "2025-08-11T05:44:21.285760",
     "status": "completed"
    },
    "tags": []
   },
   "outputs": [],
   "source": [
    "# Config\n",
    "SEQUENCE_LENGTH = 50 # input for LSTM and CNN\n",
    "SEQ_LEN = SEQUENCE_LENGTH\n",
    "MAX_SEQUENCES_PER_FILE = 50\n",
    "TARGET_COMPOSERS = {'bach', 'beethoven', 'chopin', 'mozart'}"
   ]
  },
  {
   "cell_type": "code",
   "execution_count": 7,
   "id": "1dc3fed3",
   "metadata": {
    "colab": {
     "base_uri": "https://localhost:8080/"
    },
    "execution": {
     "iopub.execute_input": "2025-08-11T05:44:21.316104Z",
     "iopub.status.busy": "2025-08-11T05:44:21.315640Z",
     "iopub.status.idle": "2025-08-11T05:44:43.041995Z",
     "shell.execute_reply": "2025-08-11T05:44:43.041249Z"
    },
    "id": "xpgxKI9DYK1F",
    "outputId": "e1c5fc1f-52cd-4b30-c2e4-49354984e567",
    "papermill": {
     "duration": 21.735969,
     "end_time": "2025-08-11T05:44:43.043627",
     "exception": false,
     "start_time": "2025-08-11T05:44:21.307658",
     "status": "completed"
    },
    "tags": []
   },
   "outputs": [
    {
     "name": "stdout",
     "output_type": "stream",
     "text": [
      "Path to dataset files: /kaggle/input/midi-classic-music\n",
      "Using MIDI folder: /kaggle/working/midiclassics_extracted\n"
     ]
    }
   ],
   "source": [
    "# Load dataset from kagglehub\n",
    "dataset_path = kagglehub.dataset_download(\"blanderbuss/midi-classic-music\")\n",
    "print(f\"Path to dataset files: {dataset_path}\")\n",
    "\n",
    "midi_root = \"/kaggle/working/midiclassics_extracted\"\n",
    "print(f\"Using MIDI folder: {midi_root}\")"
   ]
  },
  {
   "cell_type": "code",
   "execution_count": 8,
   "id": "623008c8",
   "metadata": {
    "colab": {
     "base_uri": "https://localhost:8080/"
    },
    "execution": {
     "iopub.execute_input": "2025-08-11T05:44:43.061968Z",
     "iopub.status.busy": "2025-08-11T05:44:43.061459Z",
     "iopub.status.idle": "2025-08-11T05:44:44.293578Z",
     "shell.execute_reply": "2025-08-11T05:44:44.292891Z"
    },
    "id": "Pi-MO1CwsuvW",
    "outputId": "7964dbdc-ec4b-41b8-e35c-47c526125c1e",
    "papermill": {
     "duration": 1.242527,
     "end_time": "2025-08-11T05:44:44.295069",
     "exception": false,
     "start_time": "2025-08-11T05:44:43.052542",
     "status": "completed"
    },
    "tags": []
   },
   "outputs": [
    {
     "name": "stdout",
     "output_type": "stream",
     "text": [
      "✅ Unzipped to: /kaggle/working/midiclassics_extracted\n"
     ]
    }
   ],
   "source": [
    "zip_path = os.path.join(dataset_path, 'midiclassics.zip')\n",
    "extract_path = '/kaggle/working/midiclassics_extracted'\n",
    "\n",
    "with zipfile.ZipFile(zip_path, 'r') as zip_ref:\n",
    "    zip_ref.extractall(extract_path)\n",
    "\n",
    "print(\"✅ Unzipped to:\", extract_path)"
   ]
  },
  {
   "cell_type": "markdown",
   "id": "0756a9af",
   "metadata": {
    "id": "nY-oLhYpQBHu",
    "papermill": {
     "duration": 0.007799,
     "end_time": "2025-08-11T05:44:44.311425",
     "exception": false,
     "start_time": "2025-08-11T05:44:44.303626",
     "status": "completed"
    },
    "tags": []
   },
   "source": [
    "### Load MIDI Files"
   ]
  },
  {
   "cell_type": "code",
   "execution_count": 9,
   "id": "4c551ba2",
   "metadata": {
    "execution": {
     "iopub.execute_input": "2025-08-11T05:44:44.327978Z",
     "iopub.status.busy": "2025-08-11T05:44:44.327402Z",
     "iopub.status.idle": "2025-08-11T05:44:44.332337Z",
     "shell.execute_reply": "2025-08-11T05:44:44.331805Z"
    },
    "id": "-KtAXus2hUmv",
    "papermill": {
     "duration": 0.01461,
     "end_time": "2025-08-11T05:44:44.333704",
     "exception": false,
     "start_time": "2025-08-11T05:44:44.319094",
     "status": "completed"
    },
    "tags": []
   },
   "outputs": [],
   "source": [
    "composer_dirs = [\n",
    "    os.path.join(midi_root, d)\n",
    "    for d in os.listdir(midi_root)\n",
    "    if os.path.isdir(os.path.join(midi_root, d)) and d.lower() in TARGET_COMPOSERS\n",
    "]"
   ]
  },
  {
   "cell_type": "markdown",
   "id": "5af8b8cd",
   "metadata": {
    "id": "4Q3SkJy6NmaB",
    "papermill": {
     "duration": 0.007344,
     "end_time": "2025-08-11T05:44:44.348787",
     "exception": false,
     "start_time": "2025-08-11T05:44:44.341443",
     "status": "completed"
    },
    "tags": []
   },
   "source": [
    "### Extract Features\n"
   ]
  },
  {
   "cell_type": "code",
   "execution_count": 10,
   "id": "56124a6d",
   "metadata": {
    "execution": {
     "iopub.execute_input": "2025-08-11T05:44:44.365131Z",
     "iopub.status.busy": "2025-08-11T05:44:44.364588Z",
     "iopub.status.idle": "2025-08-11T05:44:44.368914Z",
     "shell.execute_reply": "2025-08-11T05:44:44.368366Z"
    },
    "id": "doTh7H-vDqGz",
    "papermill": {
     "duration": 0.013853,
     "end_time": "2025-08-11T05:44:44.370276",
     "exception": false,
     "start_time": "2025-08-11T05:44:44.356423",
     "status": "completed"
    },
    "tags": []
   },
   "outputs": [],
   "source": [
    "def extract_note_sequence(midi):\n",
    "  notes = []\n",
    "  for instrument in midi.instruments:\n",
    "    if not instrument.is_drum:\n",
    "      for note in instrument.notes:\n",
    "        notes.append({\n",
    "            'start': note.start,\n",
    "            'pitch': note.pitch,\n",
    "            'duration': note.end - note.start,\n",
    "            'velocity': note.velocity\n",
    "        })\n",
    "  # Sorting by pitch:\n",
    "  notes.sort(key=lambda x: x['pitch'])\n",
    "  return notes"
   ]
  },
  {
   "cell_type": "markdown",
   "id": "836dd104",
   "metadata": {
    "id": "ivQhNH1AQQIg",
    "papermill": {
     "duration": 0.02573,
     "end_time": "2025-08-11T05:44:44.403608",
     "exception": false,
     "start_time": "2025-08-11T05:44:44.377878",
     "status": "completed"
    },
    "tags": []
   },
   "source": [
    "### Make Sequences (LSTM/RNN)"
   ]
  },
  {
   "cell_type": "code",
   "execution_count": 11,
   "id": "1662a3ad",
   "metadata": {
    "execution": {
     "iopub.execute_input": "2025-08-11T05:44:44.420301Z",
     "iopub.status.busy": "2025-08-11T05:44:44.419737Z",
     "iopub.status.idle": "2025-08-11T05:44:44.423439Z",
     "shell.execute_reply": "2025-08-11T05:44:44.422852Z"
    },
    "id": "KsJpiTIUQWrp",
    "papermill": {
     "duration": 0.013259,
     "end_time": "2025-08-11T05:44:44.424729",
     "exception": false,
     "start_time": "2025-08-11T05:44:44.411470",
     "status": "completed"
    },
    "tags": []
   },
   "outputs": [],
   "source": [
    "def make_feature_sequences(notes, seq_len=SEQUENCE_LENGTH):\n",
    "  return [notes[i:i+seq_len] for i in range(len(notes) - seq_len)]"
   ]
  },
  {
   "cell_type": "markdown",
   "id": "949a3190",
   "metadata": {
    "id": "JFg0K72S7YCE",
    "papermill": {
     "duration": 0.007235,
     "end_time": "2025-08-11T05:44:44.439641",
     "exception": false,
     "start_time": "2025-08-11T05:44:44.432406",
     "status": "completed"
    },
    "tags": []
   },
   "source": [
    "### Make Piano Rolls (CNN)"
   ]
  },
  {
   "cell_type": "code",
   "execution_count": 12,
   "id": "5af23de5",
   "metadata": {
    "execution": {
     "iopub.execute_input": "2025-08-11T05:44:44.455949Z",
     "iopub.status.busy": "2025-08-11T05:44:44.455458Z",
     "iopub.status.idle": "2025-08-11T05:44:44.459641Z",
     "shell.execute_reply": "2025-08-11T05:44:44.459091Z"
    },
    "id": "6Zso59_e7fuU",
    "papermill": {
     "duration": 0.013692,
     "end_time": "2025-08-11T05:44:44.460972",
     "exception": false,
     "start_time": "2025-08-11T05:44:44.447280",
     "status": "completed"
    },
    "tags": []
   },
   "outputs": [],
   "source": [
    "# Notes to piano rolls\n",
    "def notes_to_piano_roll(notes, seq_len=SEQUENCE_LENGTH, pitch_range=(21, 109)):\n",
    "  roll = np.zeros((seq_len, pitch_range[1] - pitch_range[0])) # 50 * 88\n",
    "\n",
    "  for i, note in enumerate(notes[:seq_len]):\n",
    "    pitch = note['pitch']\n",
    "    if pitch_range[0] <= pitch < pitch_range[1]:\n",
    "      roll[i, pitch - pitch_range[0]] = 1.0\n",
    "  return roll"
   ]
  },
  {
   "cell_type": "markdown",
   "id": "fe2f5f27",
   "metadata": {
    "id": "VZZC3haLRFSK",
    "papermill": {
     "duration": 0.007864,
     "end_time": "2025-08-11T05:44:44.476632",
     "exception": false,
     "start_time": "2025-08-11T05:44:44.468768",
     "status": "completed"
    },
    "tags": []
   },
   "source": [
    "### Normalize Features"
   ]
  },
  {
   "cell_type": "code",
   "execution_count": 13,
   "id": "a40be2e9",
   "metadata": {
    "execution": {
     "iopub.execute_input": "2025-08-11T05:44:44.493490Z",
     "iopub.status.busy": "2025-08-11T05:44:44.493279Z",
     "iopub.status.idle": "2025-08-11T05:44:44.496896Z",
     "shell.execute_reply": "2025-08-11T05:44:44.496355Z"
    },
    "id": "ve0WjYe2kjFb",
    "papermill": {
     "duration": 0.01359,
     "end_time": "2025-08-11T05:44:44.498187",
     "exception": false,
     "start_time": "2025-08-11T05:44:44.484597",
     "status": "completed"
    },
    "tags": []
   },
   "outputs": [],
   "source": [
    "def normalize(sequences):\n",
    "  return [\n",
    "      np.array([[n['pitch'], n['duration'], n['velocity']] for n in seq], dtype=np.float32)\n",
    "      for seq in sequences\n",
    "  ]"
   ]
  },
  {
   "cell_type": "markdown",
   "id": "9a457611",
   "metadata": {
    "id": "6qOSsw-oS8wh",
    "papermill": {
     "duration": 0.007805,
     "end_time": "2025-08-11T05:44:44.513978",
     "exception": false,
     "start_time": "2025-08-11T05:44:44.506173",
     "status": "completed"
    },
    "tags": []
   },
   "source": [
    "### Label Encoding"
   ]
  },
  {
   "cell_type": "markdown",
   "id": "dd6f5157",
   "metadata": {
    "id": "mQs38nwBlEQ6",
    "papermill": {
     "duration": 0.008495,
     "end_time": "2025-08-11T05:44:44.530597",
     "exception": false,
     "start_time": "2025-08-11T05:44:44.522102",
     "status": "completed"
    },
    "tags": []
   },
   "source": [
    "### Save model data"
   ]
  },
  {
   "cell_type": "code",
   "execution_count": 14,
   "id": "72ba187b",
   "metadata": {
    "execution": {
     "iopub.execute_input": "2025-08-11T05:44:44.557782Z",
     "iopub.status.busy": "2025-08-11T05:44:44.557236Z",
     "iopub.status.idle": "2025-08-11T05:44:44.561060Z",
     "shell.execute_reply": "2025-08-11T05:44:44.560467Z"
    },
    "id": "UlX0Kh8hlD4U",
    "papermill": {
     "duration": 0.014237,
     "end_time": "2025-08-11T05:44:44.562510",
     "exception": false,
     "start_time": "2025-08-11T05:44:44.548273",
     "status": "completed"
    },
    "tags": []
   },
   "outputs": [],
   "source": [
    "def save_model_data(X, y, le, path):\n",
    "  with open(path, 'wb') as f:\n",
    "    pickle.dump({'X': X, 'y': y, 'label_encoder': le}, f)\n",
    "  print(f'Saved to {path}')"
   ]
  },
  {
   "cell_type": "markdown",
   "id": "369888e5",
   "metadata": {
    "id": "Htk5QqxxTZpJ",
    "papermill": {
     "duration": 0.008008,
     "end_time": "2025-08-11T05:44:44.578711",
     "exception": false,
     "start_time": "2025-08-11T05:44:44.570703",
     "status": "completed"
    },
    "tags": []
   },
   "source": [
    "### Main Pipeline"
   ]
  },
  {
   "cell_type": "code",
   "execution_count": 15,
   "id": "2536b35c",
   "metadata": {
    "execution": {
     "iopub.execute_input": "2025-08-11T05:44:44.596433Z",
     "iopub.status.busy": "2025-08-11T05:44:44.595884Z",
     "iopub.status.idle": "2025-08-11T05:45:07.620510Z",
     "shell.execute_reply": "2025-08-11T05:45:07.619733Z"
    },
    "papermill": {
     "duration": 23.035081,
     "end_time": "2025-08-11T05:45:07.622128",
     "exception": false,
     "start_time": "2025-08-11T05:44:44.587047",
     "status": "completed"
    },
    "tags": []
   },
   "outputs": [
    {
     "name": "stdout",
     "output_type": "stream",
     "text": [
      "Downloaded to: /kaggle/input/midi-classic-music\n"
     ]
    },
    {
     "name": "stdout",
     "output_type": "stream",
     "text": [
      "Extracted to: /mnt/data/processed_data/extracted_midis\n",
      "Composer dirs: ['/mnt/data/processed_data/extracted_midis/Mozart', '/mnt/data/processed_data/extracted_midis/Bach', '/mnt/data/processed_data/extracted_midis/Chopin', '/mnt/data/processed_data/extracted_midis/Beethoven']  ... total: 4\n"
     ]
    }
   ],
   "source": [
    "# === KaggleHub download & extraction ===\n",
    "import kagglehub, os, zipfile\n",
    "from pathlib import Path\n",
    "\n",
    "Path(OUTPUT_DIR).mkdir(parents=True, exist_ok=True)\n",
    "\n",
    "download_root = kagglehub.dataset_download(KAGGLE_DATASET)\n",
    "print(\"Downloaded to:\", download_root)\n",
    "\n",
    "if ZIP_FILENAME:\n",
    "    candidate = os.path.join(download_root, ZIP_FILENAME)\n",
    "    assert os.path.exists(candidate), f\"ZIP file not found: {candidate}\"\n",
    "    zip_path = candidate\n",
    "else:\n",
    "    zips = []\n",
    "for _root, _dirs, _files in os.walk(download_root):\n",
    "    for _fn in _files:\n",
    "        if _fn.lower().endswith('.zip'):\n",
    "            zips.append(os.path.join(_root, _fn))\n",
    "    assert zips, f\"No .zip found under {download_root} — set ZIP_FILENAME.\"\n",
    "    zip_path = os.path.join(download_root, zips[0])\n",
    "\n",
    "extract_path = os.fspath((Path(OUTPUT_DIR) / 'extracted_midis').resolve())\n",
    "os.makedirs(extract_path, exist_ok=True)\n",
    "with zipfile.ZipFile(zip_path, 'r') as z:\n",
    "    z.extractall(extract_path)\n",
    "print(\"Extracted to:\", extract_path)\n",
    "\n",
    "midi_root = extract_path\n",
    "composer_dirs = [\n",
    "    os.path.join(midi_root, d)\n",
    "    for d in os.listdir(midi_root)\n",
    "    if os.path.isdir(os.path.join(midi_root, d)) and d.lower() in TARGET_COMPOSERS\n",
    "]\n",
    "print(\"Composer dirs:\", composer_dirs[:4], \" ... total:\", len(composer_dirs))\n"
   ]
  },
  {
   "cell_type": "code",
   "execution_count": 16,
   "id": "b1a39fd6",
   "metadata": {
    "execution": {
     "iopub.execute_input": "2025-08-11T05:45:07.642718Z",
     "iopub.status.busy": "2025-08-11T05:45:07.642128Z",
     "iopub.status.idle": "2025-08-11T05:45:07.649292Z",
     "shell.execute_reply": "2025-08-11T05:45:07.648757Z"
    },
    "id": "I3WVusULlw7K",
    "papermill": {
     "duration": 0.019091,
     "end_time": "2025-08-11T05:45:07.650699",
     "exception": false,
     "start_time": "2025-08-11T05:45:07.631608",
     "status": "completed"
    },
    "tags": []
   },
   "outputs": [],
   "source": [
    "def preprocess_dataset(composer_dirs):\n",
    "  all_lstm_sequences = []\n",
    "  all_cnn_sequences = []\n",
    "  all_labels = []\n",
    "\n",
    "  for composer_path in composer_dirs:\n",
    "    composer = os.path.basename(composer_path).lower()\n",
    "    print(f\"\\n🎼 Processing {composer}\")\n",
    "\n",
    "    for file in os.listdir(composer_path):\n",
    "      if not file.endswith('.mid'):\n",
    "        continue\n",
    "      try:\n",
    "        midi_path = os.path.join(composer_path, file)\n",
    "        pm = pretty_midi.PrettyMIDI(midi_path)\n",
    "        notes = extract_note_sequence(pm)\n",
    "        if len(notes) < SEQ_LEN:\n",
    "          continue\n",
    "        sequences = make_feature_sequences(notes, SEQ_LEN)[:MAX_SEQUENCES_PER_FILE]\n",
    "\n",
    "        piano_rolls = [notes_to_piano_roll(seq) for seq in sequences]\n",
    "        all_cnn_sequences.extend(piano_rolls)\n",
    "\n",
    "        normalized = normalize(sequences)\n",
    "        all_lstm_sequences.extend(normalized)\n",
    "\n",
    "        all_labels.extend([composer] * len(sequences))\n",
    "      except Exception as e:\n",
    "        print(f\"⚠️ Skipping {file}: {e}\")\n",
    "        continue\n",
    "\n",
    "  if not all_lstm_sequences:\n",
    "    print(\"No valid sequences found.\")\n",
    "    return None, None, None, None\n",
    "\n",
    "  le = LabelEncoder()\n",
    "  le.fit(sorted(TARGET_COMPOSERS))\n",
    "  y = le.transform(all_labels)\n",
    "\n",
    "  X_lstm = np.array(all_lstm_sequences, dtype=np.float32)\n",
    "  X_cnn = np.array(all_cnn_sequences, dtype=np.float32)[..., np.newaxis]\n",
    "\n",
    "  print(f\"\\n✅ Final LSTM shape: {X_lstm.shape}\")\n",
    "  print(f\"✅ Final CNN shape:  {X_cnn.shape}\")\n",
    "  print(f\"✅ Labels shape:     {y.shape}\")\n",
    "\n",
    "  return X_lstm, X_cnn, y, le"
   ]
  },
  {
   "cell_type": "code",
   "execution_count": 17,
   "id": "9bc72c8d",
   "metadata": {
    "colab": {
     "base_uri": "https://localhost:8080/"
    },
    "execution": {
     "iopub.execute_input": "2025-08-11T05:45:07.668625Z",
     "iopub.status.busy": "2025-08-11T05:45:07.668340Z",
     "iopub.status.idle": "2025-08-11T05:45:50.670933Z",
     "shell.execute_reply": "2025-08-11T05:45:50.670334Z"
    },
    "id": "LsA3hAA5mw-l",
    "outputId": "3c6568aa-abad-46fa-b636-f81b3885c335",
    "papermill": {
     "duration": 43.013224,
     "end_time": "2025-08-11T05:45:50.672597",
     "exception": false,
     "start_time": "2025-08-11T05:45:07.659373",
     "status": "completed"
    },
    "tags": []
   },
   "outputs": [
    {
     "name": "stdout",
     "output_type": "stream",
     "text": [
      "\n",
      "🎼 Processing mozart\n"
     ]
    },
    {
     "name": "stderr",
     "output_type": "stream",
     "text": [
      "/usr/local/lib/python3.11/dist-packages/pretty_midi/pretty_midi.py:100: RuntimeWarning: Tempo, Key or Time signature change events found on non-zero tracks.  This is not a valid type 0 or type 1 MIDI file.  Tempo, Key or Time Signature may be wrong.\n",
      "  warnings.warn(\n"
     ]
    },
    {
     "name": "stdout",
     "output_type": "stream",
     "text": [
      "\n",
      "🎼 Processing bach\n"
     ]
    },
    {
     "name": "stdout",
     "output_type": "stream",
     "text": [
      "\n",
      "🎼 Processing chopin\n"
     ]
    },
    {
     "name": "stdout",
     "output_type": "stream",
     "text": [
      "\n",
      "🎼 Processing beethoven\n"
     ]
    },
    {
     "name": "stdout",
     "output_type": "stream",
     "text": [
      "⚠️ Skipping Anhang 14-3.mid: Could not decode key with 3 flats and mode 255\n"
     ]
    },
    {
     "name": "stdout",
     "output_type": "stream",
     "text": [
      "\n",
      "✅ Final LSTM shape: (23990, 50, 3)\n",
      "✅ Final CNN shape:  (23990, 50, 88, 1)\n",
      "✅ Labels shape:     (23990,)\n",
      "Saved to lstm_data.pkl\n"
     ]
    },
    {
     "name": "stdout",
     "output_type": "stream",
     "text": [
      "Saved to cnn_data.pkl\n"
     ]
    }
   ],
   "source": [
    "# 🚀 Run It\n",
    "X_lstm, X_cnn, y, le = preprocess_dataset(composer_dirs)\n",
    "\n",
    "if X_lstm is not None:\n",
    "    save_model_data(X_lstm, y, le, 'lstm_data.pkl')\n",
    "    save_model_data(X_cnn, y, le, 'cnn_data.pkl')"
   ]
  },
  {
   "cell_type": "markdown",
   "id": "ff6e48af",
   "metadata": {
    "id": "AToNSdWPHI_V",
    "papermill": {
     "duration": 0.008592,
     "end_time": "2025-08-11T05:45:50.691892",
     "exception": false,
     "start_time": "2025-08-11T05:45:50.683300",
     "status": "completed"
    },
    "tags": []
   },
   "source": [
    "### Save Preprocessed Data"
   ]
  },
  {
   "cell_type": "markdown",
   "id": "807b73d6",
   "metadata": {
    "id": "UlLtiuF1VqKc",
    "papermill": {
     "duration": 0.008494,
     "end_time": "2025-08-11T05:45:50.709638",
     "exception": false,
     "start_time": "2025-08-11T05:45:50.701144",
     "status": "completed"
    },
    "tags": []
   },
   "source": [
    "### Run"
   ]
  },
  {
   "cell_type": "code",
   "execution_count": 18,
   "id": "a12c9c68",
   "metadata": {
    "colab": {
     "base_uri": "https://localhost:8080/"
    },
    "execution": {
     "iopub.execute_input": "2025-08-11T05:45:51.846021Z",
     "iopub.status.busy": "2025-08-11T05:45:51.845363Z",
     "iopub.status.idle": "2025-08-11T05:45:55.460006Z",
     "shell.execute_reply": "2025-08-11T05:45:55.459319Z"
    },
    "id": "a8eed084",
    "outputId": "d42a3ce1-46a5-4e5c-ed08-33a56f859fed",
    "papermill": {
     "duration": 3.627302,
     "end_time": "2025-08-11T05:45:55.461572",
     "exception": false,
     "start_time": "2025-08-11T05:45:51.834270",
     "status": "completed"
    },
    "tags": []
   },
   "outputs": [
    {
     "name": "stdout",
     "output_type": "stream",
     "text": [
      "updating: content/cnn_data.pkl"
     ]
    },
    {
     "name": "stdout",
     "output_type": "stream",
     "text": [
      " (deflated 99%)\n"
     ]
    }
   ],
   "source": [
    "!zip cnn_data.pkl.zip /content/cnn_data.pkl"
   ]
  },
  {
   "cell_type": "code",
   "execution_count": 19,
   "id": "9c87a0fb",
   "metadata": {
    "execution": {
     "iopub.execute_input": "2025-08-11T05:45:55.483314Z",
     "iopub.status.busy": "2025-08-11T05:45:55.482819Z",
     "iopub.status.idle": "2025-08-11T05:45:56.465699Z",
     "shell.execute_reply": "2025-08-11T05:45:56.465124Z"
    },
    "papermill": {
     "duration": 0.994898,
     "end_time": "2025-08-11T05:45:56.467089",
     "exception": false,
     "start_time": "2025-08-11T05:45:55.472191",
     "status": "completed"
    },
    "tags": []
   },
   "outputs": [
    {
     "name": "stdout",
     "output_type": "stream",
     "text": [
      "Saved standardized outputs to: /mnt/data/processed_data\n"
     ]
    }
   ],
   "source": [
    "# === Standardized save: split & dump expected files ===\n",
    "import numpy as np, pickle, os\n",
    "from pathlib import Path\n",
    "from sklearn.model_selection import train_test_split\n",
    "\n",
    "Path(OUTPUT_DIR).mkdir(parents=True, exist_ok=True)\n",
    "\n",
    "def _ensure_numpy(x):\n",
    "    return np.array(x)\n",
    "\n",
    "X_lstm = _ensure_numpy(X_lstm)\n",
    "y      = _ensure_numpy(y)\n",
    "\n",
    "X_train_l, X_temp, y_train, y_temp = train_test_split(X_lstm, y, test_size=0.30, random_state=42, stratify=y)\n",
    "X_dev_l,   X_test_l, y_dev,  y_test = train_test_split(X_temp, y_temp, test_size=0.50, random_state=42, stratify=y_temp)\n",
    "\n",
    "with open(os.path.join(OUTPUT_DIR, 'label_encoder.pkl'), 'wb') as f:\n",
    "    pickle.dump(le, f)\n",
    "\n",
    "with open(os.path.join(OUTPUT_DIR, 'lstm_data.pkl'), 'wb') as f:\n",
    "    pickle.dump((X_train_l, y_train, le), f)\n",
    "with open(os.path.join(OUTPUT_DIR, 'lstm_dev.pkl'), 'wb') as f:\n",
    "    pickle.dump((X_dev_l, y_dev), f)\n",
    "with open(os.path.join(OUTPUT_DIR, 'lstm_test.pkl'), 'wb') as f:\n",
    "    pickle.dump((X_test_l, y_test), f)\n",
    "\n",
    "try:\n",
    "    X_cnn = _ensure_numpy(X_cnn)\n",
    "    with open(os.path.join(OUTPUT_DIR, 'cnn_data.pkl'), 'wb') as f:\n",
    "        pickle.dump((X_cnn, y, le), f)\n",
    "except Exception as e:\n",
    "    print(\"[note] CNN tensor not available or failed to save:\", e)\n",
    "\n",
    "print(\"Saved standardized outputs to:\", OUTPUT_DIR)\n"
   ]
  }
 ],
 "metadata": {
  "colab": {
   "machine_shape": "hm",
   "provenance": []
  },
  "kernelspec": {
   "display_name": "Python 3",
   "name": "python3"
  },
  "language_info": {
   "codemirror_mode": {
    "name": "ipython",
    "version": 3
   },
   "file_extension": ".py",
   "mimetype": "text/x-python",
   "name": "python",
   "nbconvert_exporter": "python",
   "pygments_lexer": "ipython3",
   "version": "3.11.13"
  },
  "papermill": {
   "default_parameters": {},
   "duration": 101.529891,
   "end_time": "2025-08-11T05:45:56.983146",
   "environment_variables": {},
   "exception": null,
   "input_path": "/content/content/MyDrive/ComposerReport/report/notebooks/AAI511_Final_Data_Preprocessing_2_PATCHED_preproc.ipynb",
   "output_path": "/content/content/MyDrive/ComposerReport/report/artifacts/AAI511_Final_Data_Preprocessing_2_PATCHED_preproc_EXECUTED_preproc.ipynb",
   "parameters": {
    "KAGGLE_DATASET": "blanderbuss/midi-classic-music",
    "OUTPUT_DIR": "/mnt/data/processed_data",
    "TARGET_COMPOSERS": [
     "bach",
     "beethoven",
     "chopin",
     "mozart"
    ],
    "ZIP_FILENAME": null
   },
   "start_time": "2025-08-11T05:44:15.453255",
   "version": "2.6.0"
  }
 },
 "nbformat": 4,
 "nbformat_minor": 5
}