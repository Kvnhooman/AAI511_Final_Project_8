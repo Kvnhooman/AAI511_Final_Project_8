{
 "cells": [
  {
   "cell_type": "code",
   "execution_count": 1,
   "id": "f1604200",
   "metadata": {
    "execution": {
     "iopub.execute_input": "2025-08-11T10:37:09.283501Z",
     "iopub.status.busy": "2025-08-11T10:37:09.282783Z",
     "iopub.status.idle": "2025-08-11T10:37:09.287765Z",
     "shell.execute_reply": "2025-08-11T10:37:09.286999Z"
    }
   },
   "outputs": [],
   "source": [
    "KAGGLE_DATASET = \"blanderbuss/midi-classic-music\"\n",
    "ZIP_FILENAME = None\n",
    "OUTPUT_DIR = \"/content/drive/MyDrive/ComposerReport/report/processed_data\"\n",
    "TARGET_COMPOSERS = [\"bach\", \"beethoven\", \"chopin\", \"mozart\"]"
   ]
  },
  {
   "cell_type": "code",
   "execution_count": 2,
   "metadata": {
    "execution": {
     "iopub.execute_input": "2025-08-11T10:37:09.298723Z",
     "iopub.status.busy": "2025-08-11T10:37:09.298165Z",
     "iopub.status.idle": "2025-08-11T10:37:09.303326Z",
     "shell.execute_reply": "2025-08-11T10:37:09.302414Z"
    },
    "executionInfo": {
     "elapsed": 5,
     "status": "ok",
     "timestamp": 1754902434319,
     "user": {
      "displayName": "Devin Eror",
      "userId": "08010257872820414663"
     },
     "user_tz": 420
    },
    "id": "06d26ea4",
    "tags": [
     "parameters"
    ]
   },
   "outputs": [],
   "source": [
    "KAGGLE_DATASET = \"blanderbuss/midi-classic-music\"\n",
    "ZIP_FILENAME = None\n",
    "OUTPUT_DIR = \"./processed_data\"\n",
    "TARGET_COMPOSERS = [\"bach\",\"beethoven\",\"chopin\",\"mozart\"]\n"
   ]
  },
  {
   "cell_type": "code",
   "execution_count": 3,
   "metadata": {
    "colab": {
     "base_uri": "https://localhost:8080/"
    },
    "execution": {
     "iopub.execute_input": "2025-08-11T10:37:09.307047Z",
     "iopub.status.busy": "2025-08-11T10:37:09.306505Z",
     "iopub.status.idle": "2025-08-11T10:37:09.313890Z",
     "shell.execute_reply": "2025-08-11T10:37:09.313086Z"
    },
    "executionInfo": {
     "elapsed": 7,
     "status": "ok",
     "timestamp": 1754902434333,
     "user": {
      "displayName": "Devin Eror",
      "userId": "08010257872820414663"
     },
     "user_tz": 420
    },
    "id": "984e0be7",
    "outputId": "197a0363-d61e-4c85-d88e-6bf6fbf90997"
   },
   "outputs": [
    {
     "name": "stdout",
     "output_type": "stream",
     "text": [
      "KAGGLE_DATASET: blanderbuss/midi-classic-music\n",
      "ZIP_FILENAME: None\n",
      "OUTPUT_DIR: ./processed_data\n",
      "TARGET_COMPOSERS: ['bach', 'beethoven', 'chopin', 'mozart']\n"
     ]
    }
   ],
   "source": [
    "# === Parameters (Papermill friendly) ===\n",
    "KAGGLE_DATASET = KAGGLE_DATASET if 'KAGGLE_DATASET' in globals() else 'blanderbuss/midi-classic-music'\n",
    "ZIP_FILENAME   = ZIP_FILENAME   if 'ZIP_FILENAME'   in globals() else None\n",
    "OUTPUT_DIR     = OUTPUT_DIR     if 'OUTPUT_DIR'     in globals() else '/mnt/data/processed_data'\n",
    "TARGET_COMPOSERS = TARGET_COMPOSERS if 'TARGET_COMPOSERS' in globals() else ['bach','beethoven','chopin','mozart']\n",
    "print(\"KAGGLE_DATASET:\", KAGGLE_DATASET)\n",
    "print(\"ZIP_FILENAME:\", ZIP_FILENAME)\n",
    "print(\"OUTPUT_DIR:\", OUTPUT_DIR)\n",
    "print(\"TARGET_COMPOSERS:\", TARGET_COMPOSERS)\n"
   ]
  },
  {
   "cell_type": "markdown",
   "metadata": {
    "id": "vNhtfA59VgmI"
   },
   "source": []
  },
  {
   "cell_type": "markdown",
   "metadata": {
    "id": "IactQp48t2nI"
   },
   "source": []
  },
  {
   "cell_type": "code",
   "execution_count": 4,
   "metadata": {
    "colab": {
     "base_uri": "https://localhost:8080/"
    },
    "collapsed": true,
    "execution": {
     "iopub.execute_input": "2025-08-11T10:37:09.319200Z",
     "iopub.status.busy": "2025-08-11T10:37:09.317646Z",
     "iopub.status.idle": "2025-08-11T10:37:23.090285Z",
     "shell.execute_reply": "2025-08-11T10:37:23.089391Z"
    },
    "executionInfo": {
     "elapsed": 4078,
     "status": "ok",
     "timestamp": 1754902438442,
     "user": {
      "displayName": "Devin Eror",
      "userId": "08010257872820414663"
     },
     "user_tz": 420
    },
    "id": "KCJyJkXSt051",
    "outputId": "5399f933-8eb7-4106-a761-2ecef6a65529"
   },
   "outputs": [
    {
     "name": "stdout",
     "output_type": "stream",
     "text": [
      "Requirement already satisfied: pretty_midi in /usr/local/lib/python3.11/dist-packages (0.2.10)\n",
      "Requirement already satisfied: music21 in /usr/local/lib/python3.11/dist-packages (9.3.0)\n",
      "Requirement already satisfied: numpy in /usr/local/lib/python3.11/dist-packages (2.0.2)\n",
      "Requirement already satisfied: pandas in /usr/local/lib/python3.11/dist-packages (2.2.2)\n",
      "Requirement already satisfied: matplotlib in /usr/local/lib/python3.11/dist-packages (3.10.0)\n",
      "Requirement already satisfied: scikit-learn in /usr/local/lib/python3.11/dist-packages (1.6.1)\n"
     ]
    },
    {
     "name": "stdout",
     "output_type": "stream",
     "text": [
      "Requirement already satisfied: mido>=1.1.16 in /usr/local/lib/python3.11/dist-packages (from pretty_midi) (1.3.3)\n",
      "Requirement already satisfied: six in /usr/local/lib/python3.11/dist-packages (from pretty_midi) (1.17.0)\n",
      "Requirement already satisfied: chardet in /usr/local/lib/python3.11/dist-packages (from music21) (5.2.0)\n",
      "Requirement already satisfied: joblib in /usr/local/lib/python3.11/dist-packages (from music21) (1.5.1)\n",
      "Requirement already satisfied: jsonpickle in /usr/local/lib/python3.11/dist-packages (from music21) (4.1.1)\n",
      "Requirement already satisfied: more-itertools in /usr/local/lib/python3.11/dist-packages (from music21) (10.7.0)\n",
      "Requirement already satisfied: requests in /usr/local/lib/python3.11/dist-packages (from music21) (2.32.3)\n",
      "Requirement already satisfied: webcolors>=1.5 in /usr/local/lib/python3.11/dist-packages (from music21) (24.11.1)\n"
     ]
    },
    {
     "name": "stdout",
     "output_type": "stream",
     "text": [
      "Requirement already satisfied: python-dateutil>=2.8.2 in /usr/local/lib/python3.11/dist-packages (from pandas) (2.9.0.post0)\n",
      "Requirement already satisfied: pytz>=2020.1 in /usr/local/lib/python3.11/dist-packages (from pandas) (2025.2)\n",
      "Requirement already satisfied: tzdata>=2022.7 in /usr/local/lib/python3.11/dist-packages (from pandas) (2025.2)\n",
      "Requirement already satisfied: contourpy>=1.0.1 in /usr/local/lib/python3.11/dist-packages (from matplotlib) (1.3.3)\n",
      "Requirement already satisfied: cycler>=0.10 in /usr/local/lib/python3.11/dist-packages (from matplotlib) (0.12.1)\n",
      "Requirement already satisfied: fonttools>=4.22.0 in /usr/local/lib/python3.11/dist-packages (from matplotlib) (4.59.0)\n"
     ]
    },
    {
     "name": "stdout",
     "output_type": "stream",
     "text": [
      "Requirement already satisfied: kiwisolver>=1.3.1 in /usr/local/lib/python3.11/dist-packages (from matplotlib) (1.4.8)\n",
      "Requirement already satisfied: packaging>=20.0 in /usr/local/lib/python3.11/dist-packages (from matplotlib) (25.0)\n",
      "Requirement already satisfied: pillow>=8 in /usr/local/lib/python3.11/dist-packages (from matplotlib) (11.3.0)\n",
      "Requirement already satisfied: pyparsing>=2.3.1 in /usr/local/lib/python3.11/dist-packages (from matplotlib) (3.2.3)\n"
     ]
    },
    {
     "name": "stdout",
     "output_type": "stream",
     "text": [
      "Requirement already satisfied: scipy>=1.6.0 in /usr/local/lib/python3.11/dist-packages (from scikit-learn) (1.16.1)\n",
      "Requirement already satisfied: threadpoolctl>=3.1.0 in /usr/local/lib/python3.11/dist-packages (from scikit-learn) (3.6.0)\n"
     ]
    },
    {
     "name": "stdout",
     "output_type": "stream",
     "text": [
      "Requirement already satisfied: charset-normalizer<4,>=2 in /usr/local/lib/python3.11/dist-packages (from requests->music21) (3.4.2)\n",
      "Requirement already satisfied: idna<4,>=2.5 in /usr/local/lib/python3.11/dist-packages (from requests->music21) (3.10)\n",
      "Requirement already satisfied: urllib3<3,>=1.21.1 in /usr/local/lib/python3.11/dist-packages (from requests->music21) (2.5.0)\n",
      "Requirement already satisfied: certifi>=2017.4.17 in /usr/local/lib/python3.11/dist-packages (from requests->music21) (2025.8.3)\n"
     ]
    }
   ],
   "source": [
    "# Environment setup\n",
    "!pip install pretty_midi music21 numpy pandas matplotlib scikit-learn"
   ]
  },
  {
   "cell_type": "code",
   "execution_count": 5,
   "metadata": {
    "execution": {
     "iopub.execute_input": "2025-08-11T10:37:23.093622Z",
     "iopub.status.busy": "2025-08-11T10:37:23.093380Z",
     "iopub.status.idle": "2025-08-11T10:37:24.699537Z",
     "shell.execute_reply": "2025-08-11T10:37:24.698608Z"
    },
    "executionInfo": {
     "elapsed": 3,
     "status": "ok",
     "timestamp": 1754902438447,
     "user": {
      "displayName": "Devin Eror",
      "userId": "08010257872820414663"
     },
     "user_tz": 420
    },
    "id": "yPKrVbK5uAqe"
   },
   "outputs": [],
   "source": [
    "# Imports\n",
    "import kagglehub\n",
    "import os, zipfile, pickle\n",
    "import numpy as np\n",
    "import pretty_midi\n",
    "\n",
    "from sklearn.preprocessing import LabelEncoder\n",
    "from tqdm import tqdm"
   ]
  },
  {
   "cell_type": "code",
   "execution_count": 6,
   "metadata": {
    "execution": {
     "iopub.execute_input": "2025-08-11T10:37:24.704695Z",
     "iopub.status.busy": "2025-08-11T10:37:24.704201Z",
     "iopub.status.idle": "2025-08-11T10:37:24.710232Z",
     "shell.execute_reply": "2025-08-11T10:37:24.709469Z"
    },
    "executionInfo": {
     "elapsed": 2,
     "status": "ok",
     "timestamp": 1754902438452,
     "user": {
      "displayName": "Devin Eror",
      "userId": "08010257872820414663"
     },
     "user_tz": 420
    },
    "id": "8R1l1qOoMS5P"
   },
   "outputs": [],
   "source": [
    "# Config\n",
    "SEQUENCE_LENGTH = 50 # input for LSTM and CNN\n",
    "SEQ_LEN = SEQUENCE_LENGTH\n",
    "MAX_SEQUENCES_PER_FILE = 50\n",
    "TARGET_COMPOSERS = {'bach', 'beethoven', 'chopin', 'mozart'}"
   ]
  },
  {
   "cell_type": "code",
   "execution_count": 7,
   "metadata": {
    "colab": {
     "base_uri": "https://localhost:8080/"
    },
    "execution": {
     "iopub.execute_input": "2025-08-11T10:37:24.715473Z",
     "iopub.status.busy": "2025-08-11T10:37:24.714079Z",
     "iopub.status.idle": "2025-08-11T10:37:49.332422Z",
     "shell.execute_reply": "2025-08-11T10:37:49.331464Z"
    },
    "executionInfo": {
     "elapsed": 2298,
     "status": "ok",
     "timestamp": 1754902440752,
     "user": {
      "displayName": "Devin Eror",
      "userId": "08010257872820414663"
     },
     "user_tz": 420
    },
    "id": "xpgxKI9DYK1F",
    "outputId": "e388c427-1d1c-4ac5-c487-d30d7f7395d1"
   },
   "outputs": [
    {
     "name": "stdout",
     "output_type": "stream",
     "text": [
      "Downloading from https://www.kaggle.com/api/v1/datasets/download/blanderbuss/midi-classic-music?dataset_version_number=1...\n"
     ]
    },
    {
     "name": "stderr",
     "output_type": "stream",
     "text": [
      "\r",
      "  0%|          | 0.00/68.2M [00:00<?, ?B/s]"
     ]
    },
    {
     "name": "stderr",
     "output_type": "stream",
     "text": [
      "\r",
      " 29%|██▉       | 20.0M/68.2M [00:00<00:00, 207MB/s]"
     ]
    },
    {
     "name": "stderr",
     "output_type": "stream",
     "text": [
      "\r",
      " 59%|█████▊    | 40.0M/68.2M [00:00<00:00, 205MB/s]"
     ]
    },
    {
     "name": "stderr",
     "output_type": "stream",
     "text": [
      "\r",
      " 88%|████████▊ | 60.0M/68.2M [00:00<00:00, 205MB/s]"
     ]
    },
    {
     "name": "stderr",
     "output_type": "stream",
     "text": [
      "\r",
      "100%|██████████| 68.2M/68.2M [00:00<00:00, 208MB/s]"
     ]
    },
    {
     "name": "stdout",
     "output_type": "stream",
     "text": [
      "Extracting files...\n"
     ]
    },
    {
     "name": "stderr",
     "output_type": "stream",
     "text": [
      "\n"
     ]
    },
    {
     "name": "stdout",
     "output_type": "stream",
     "text": [
      "Path to dataset files: /root/.cache/kagglehub/datasets/blanderbuss/midi-classic-music/versions/1\n",
      "Using MIDI folder: /kaggle/working/midiclassics_extracted\n"
     ]
    }
   ],
   "source": [
    "# Load dataset from kagglehub\n",
    "dataset_path = kagglehub.dataset_download(\"blanderbuss/midi-classic-music\")\n",
    "print(f\"Path to dataset files: {dataset_path}\")\n",
    "\n",
    "midi_root = \"/kaggle/working/midiclassics_extracted\"\n",
    "print(f\"Using MIDI folder: {midi_root}\")"
   ]
  },
  {
   "cell_type": "code",
   "execution_count": 8,
   "metadata": {
    "colab": {
     "base_uri": "https://localhost:8080/"
    },
    "execution": {
     "iopub.execute_input": "2025-08-11T10:37:49.335840Z",
     "iopub.status.busy": "2025-08-11T10:37:49.335226Z",
     "iopub.status.idle": "2025-08-11T10:37:50.754372Z",
     "shell.execute_reply": "2025-08-11T10:37:50.753426Z"
    },
    "executionInfo": {
     "elapsed": 1582,
     "status": "ok",
     "timestamp": 1754902442336,
     "user": {
      "displayName": "Devin Eror",
      "userId": "08010257872820414663"
     },
     "user_tz": 420
    },
    "id": "Pi-MO1CwsuvW",
    "outputId": "b7c3b1f3-eaec-4c7e-8732-429fe08b0a3f"
   },
   "outputs": [
    {
     "name": "stdout",
     "output_type": "stream",
     "text": [
      "✅ Unzipped to: /kaggle/working/midiclassics_extracted\n"
     ]
    }
   ],
   "source": [
    "zip_path = os.path.join(dataset_path, 'midiclassics.zip')\n",
    "extract_path = '/kaggle/working/midiclassics_extracted'\n",
    "\n",
    "with zipfile.ZipFile(zip_path, 'r') as zip_ref:\n",
    "    zip_ref.extractall(extract_path)\n",
    "\n",
    "print(\"✅ Unzipped to:\", extract_path)"
   ]
  },
  {
   "cell_type": "markdown",
   "metadata": {
    "id": "nY-oLhYpQBHu"
   },
   "source": [
    "### Load MIDI Files"
   ]
  },
  {
   "cell_type": "code",
   "execution_count": 9,
   "metadata": {
    "execution": {
     "iopub.execute_input": "2025-08-11T10:37:50.758131Z",
     "iopub.status.busy": "2025-08-11T10:37:50.757339Z",
     "iopub.status.idle": "2025-08-11T10:37:50.763739Z",
     "shell.execute_reply": "2025-08-11T10:37:50.762928Z"
    },
    "executionInfo": {
     "elapsed": 2,
     "status": "ok",
     "timestamp": 1754902442340,
     "user": {
      "displayName": "Devin Eror",
      "userId": "08010257872820414663"
     },
     "user_tz": 420
    },
    "id": "-KtAXus2hUmv"
   },
   "outputs": [],
   "source": [
    "composer_dirs = [\n",
    "    os.path.join(midi_root, d)\n",
    "    for d in os.listdir(midi_root)\n",
    "    if os.path.isdir(os.path.join(midi_root, d)) and d.lower() in TARGET_COMPOSERS\n",
    "]"
   ]
  },
  {
   "cell_type": "markdown",
   "metadata": {
    "id": "4Q3SkJy6NmaB"
   },
   "source": [
    "### Extract Features\n"
   ]
  },
  {
   "cell_type": "code",
   "execution_count": 10,
   "metadata": {
    "execution": {
     "iopub.execute_input": "2025-08-11T10:37:50.766915Z",
     "iopub.status.busy": "2025-08-11T10:37:50.766666Z",
     "iopub.status.idle": "2025-08-11T10:37:50.771706Z",
     "shell.execute_reply": "2025-08-11T10:37:50.770829Z"
    },
    "executionInfo": {
     "elapsed": 26,
     "status": "ok",
     "timestamp": 1754902442368,
     "user": {
      "displayName": "Devin Eror",
      "userId": "08010257872820414663"
     },
     "user_tz": 420
    },
    "id": "doTh7H-vDqGz"
   },
   "outputs": [],
   "source": [
    "def extract_note_sequence(midi):\n",
    "  notes = []\n",
    "  for instrument in midi.instruments:\n",
    "    if not instrument.is_drum:\n",
    "      for note in instrument.notes:\n",
    "        notes.append({\n",
    "            'start': note.start,\n",
    "            'pitch': note.pitch,\n",
    "            'duration': note.end - note.start,\n",
    "            'velocity': note.velocity\n",
    "        })\n",
    "  # Sorting by pitch:\n",
    "  notes.sort(key=lambda x: x['pitch'])\n",
    "  return notes"
   ]
  },
  {
   "cell_type": "markdown",
   "metadata": {
    "id": "ivQhNH1AQQIg"
   },
   "source": [
    "### Make Sequences (LSTM/RNN)"
   ]
  },
  {
   "cell_type": "code",
   "execution_count": 11,
   "metadata": {
    "execution": {
     "iopub.execute_input": "2025-08-11T10:37:50.774818Z",
     "iopub.status.busy": "2025-08-11T10:37:50.774351Z",
     "iopub.status.idle": "2025-08-11T10:37:50.778792Z",
     "shell.execute_reply": "2025-08-11T10:37:50.778095Z"
    },
    "executionInfo": {
     "elapsed": 2,
     "status": "ok",
     "timestamp": 1754902442372,
     "user": {
      "displayName": "Devin Eror",
      "userId": "08010257872820414663"
     },
     "user_tz": 420
    },
    "id": "KsJpiTIUQWrp"
   },
   "outputs": [],
   "source": [
    "def make_feature_sequences(notes, seq_len=SEQUENCE_LENGTH):\n",
    "  return [notes[i:i+seq_len] for i in range(len(notes) - seq_len)]"
   ]
  },
  {
   "cell_type": "markdown",
   "metadata": {
    "id": "JFg0K72S7YCE"
   },
   "source": [
    "### Make Piano Rolls (CNN)"
   ]
  },
  {
   "cell_type": "code",
   "execution_count": 12,
   "metadata": {
    "execution": {
     "iopub.execute_input": "2025-08-11T10:37:50.781473Z",
     "iopub.status.busy": "2025-08-11T10:37:50.781248Z",
     "iopub.status.idle": "2025-08-11T10:37:50.786080Z",
     "shell.execute_reply": "2025-08-11T10:37:50.785336Z"
    },
    "executionInfo": {
     "elapsed": 2,
     "status": "ok",
     "timestamp": 1754902442377,
     "user": {
      "displayName": "Devin Eror",
      "userId": "08010257872820414663"
     },
     "user_tz": 420
    },
    "id": "6Zso59_e7fuU"
   },
   "outputs": [],
   "source": [
    "# Notes to piano rolls\n",
    "def notes_to_piano_roll(notes, seq_len=SEQUENCE_LENGTH, pitch_range=(21, 109)):\n",
    "  roll = np.zeros((seq_len, pitch_range[1] - pitch_range[0])) # 50 * 88\n",
    "\n",
    "  for i, note in enumerate(notes[:seq_len]):\n",
    "    pitch = note['pitch']\n",
    "    if pitch_range[0] <= pitch < pitch_range[1]:\n",
    "      roll[i, pitch - pitch_range[0]] = 1.0\n",
    "  return roll"
   ]
  },
  {
   "cell_type": "markdown",
   "metadata": {
    "id": "VZZC3haLRFSK"
   },
   "source": [
    "### Normalize Features"
   ]
  },
  {
   "cell_type": "code",
   "execution_count": 13,
   "metadata": {
    "execution": {
     "iopub.execute_input": "2025-08-11T10:37:50.789069Z",
     "iopub.status.busy": "2025-08-11T10:37:50.788447Z",
     "iopub.status.idle": "2025-08-11T10:37:50.793184Z",
     "shell.execute_reply": "2025-08-11T10:37:50.792459Z"
    },
    "executionInfo": {
     "elapsed": 2,
     "status": "ok",
     "timestamp": 1754902442381,
     "user": {
      "displayName": "Devin Eror",
      "userId": "08010257872820414663"
     },
     "user_tz": 420
    },
    "id": "ve0WjYe2kjFb"
   },
   "outputs": [],
   "source": [
    "def normalize(sequences):\n",
    "  return [\n",
    "      np.array([[n['pitch'], n['duration'], n['velocity']] for n in seq], dtype=np.float32)\n",
    "      for seq in sequences\n",
    "  ]"
   ]
  },
  {
   "cell_type": "markdown",
   "metadata": {
    "id": "6qOSsw-oS8wh"
   },
   "source": [
    "### Label Encoding"
   ]
  },
  {
   "cell_type": "markdown",
   "metadata": {
    "id": "mQs38nwBlEQ6"
   },
   "source": [
    "### Save model data"
   ]
  },
  {
   "cell_type": "code",
   "execution_count": 14,
   "metadata": {
    "execution": {
     "iopub.execute_input": "2025-08-11T10:37:50.795884Z",
     "iopub.status.busy": "2025-08-11T10:37:50.795655Z",
     "iopub.status.idle": "2025-08-11T10:37:50.799840Z",
     "shell.execute_reply": "2025-08-11T10:37:50.799072Z"
    },
    "executionInfo": {
     "elapsed": 5,
     "status": "ok",
     "timestamp": 1754902442407,
     "user": {
      "displayName": "Devin Eror",
      "userId": "08010257872820414663"
     },
     "user_tz": 420
    },
    "id": "UlX0Kh8hlD4U"
   },
   "outputs": [],
   "source": [
    "def save_model_data(X, y, le, path):\n",
    "  with open(path, 'wb') as f:\n",
    "    pickle.dump({'X': X, 'y': y, 'label_encoder': le}, f)\n",
    "  print(f'Saved to {path}')"
   ]
  },
  {
   "cell_type": "markdown",
   "metadata": {
    "id": "Htk5QqxxTZpJ"
   },
   "source": [
    "### Main Pipeline"
   ]
  },
  {
   "cell_type": "code",
   "execution_count": 15,
   "metadata": {
    "colab": {
     "base_uri": "https://localhost:8080/"
    },
    "execution": {
     "iopub.execute_input": "2025-08-11T10:37:50.802603Z",
     "iopub.status.busy": "2025-08-11T10:37:50.802383Z",
     "iopub.status.idle": "2025-08-11T10:38:17.722414Z",
     "shell.execute_reply": "2025-08-11T10:38:17.721440Z"
    },
    "executionInfo": {
     "elapsed": 4362,
     "status": "ok",
     "timestamp": 1754902446789,
     "user": {
      "displayName": "Devin Eror",
      "userId": "08010257872820414663"
     },
     "user_tz": 420
    },
    "id": "9e0ca3fe",
    "outputId": "4a072166-0ad9-4d4f-96ff-fd645d0b0d05"
   },
   "outputs": [
    {
     "name": "stdout",
     "output_type": "stream",
     "text": [
      "Downloaded to: /root/.cache/kagglehub/datasets/blanderbuss/midi-classic-music/versions/1\n"
     ]
    },
    {
     "name": "stdout",
     "output_type": "stream",
     "text": [
      "Extracted to: /content/processed_data/extracted_midis\n",
      "Composer dirs: ['/content/processed_data/extracted_midis/Mozart', '/content/processed_data/extracted_midis/Chopin', '/content/processed_data/extracted_midis/Bach', '/content/processed_data/extracted_midis/Beethoven']  ... total: 4\n"
     ]
    }
   ],
   "source": [
    "# === KaggleHub download & extraction ===\n",
    "import kagglehub, os, zipfile\n",
    "from pathlib import Path\n",
    "\n",
    "Path(OUTPUT_DIR).mkdir(parents=True, exist_ok=True)\n",
    "\n",
    "download_root = kagglehub.dataset_download(KAGGLE_DATASET)\n",
    "print(\"Downloaded to:\", download_root)\n",
    "\n",
    "if ZIP_FILENAME:\n",
    "    candidate = os.path.join(download_root, ZIP_FILENAME)\n",
    "    assert os.path.exists(candidate), f\"ZIP file not found: {candidate}\"\n",
    "    zip_path = candidate\n",
    "else:\n",
    "    zips = []\n",
    "for _root, _dirs, _files in os.walk(download_root):\n",
    "    for _fn in _files:\n",
    "        if _fn.lower().endswith('.zip'):\n",
    "            zips.append(os.path.join(_root, _fn))\n",
    "for _root, _dirs, _files in os.walk(download_root):\n",
    "    for _fn in _files:\n",
    "        if _fn.lower().endswith('.zip'):\n",
    "            zips.append(os.path.join(_root, _fn))\n",
    "    assert zips, f\"No .zip found under {download_root} — set ZIP_FILENAME.\"\n",
    "    zip_path = os.path.join(download_root, zips[0])\n",
    "\n",
    "extract_path = os.fspath((Path(OUTPUT_DIR) / 'extracted_midis').resolve())\n",
    "os.makedirs(extract_path, exist_ok=True)\n",
    "with zipfile.ZipFile(zip_path, 'r') as z:\n",
    "    z.extractall(extract_path)\n",
    "print(\"Extracted to:\", extract_path)\n",
    "\n",
    "midi_root = extract_path\n",
    "composer_dirs = [\n",
    "    os.path.join(midi_root, d)\n",
    "    for d in os.listdir(midi_root)\n",
    "    if os.path.isdir(os.path.join(midi_root, d)) and d.lower() in TARGET_COMPOSERS\n",
    "]\n",
    "print(\"Composer dirs:\", composer_dirs[:4], \" ... total:\", len(composer_dirs))\n"
   ]
  },
  {
   "cell_type": "code",
   "execution_count": 16,
   "metadata": {
    "execution": {
     "iopub.execute_input": "2025-08-11T10:38:17.727444Z",
     "iopub.status.busy": "2025-08-11T10:38:17.726316Z",
     "iopub.status.idle": "2025-08-11T10:38:17.764509Z",
     "shell.execute_reply": "2025-08-11T10:38:17.763554Z"
    },
    "executionInfo": {
     "elapsed": 4,
     "status": "ok",
     "timestamp": 1754902446820,
     "user": {
      "displayName": "Devin Eror",
      "userId": "08010257872820414663"
     },
     "user_tz": 420
    },
    "id": "I3WVusULlw7K"
   },
   "outputs": [],
   "source": [
    "def preprocess_dataset(composer_dirs):\n",
    "  all_lstm_sequences = []\n",
    "  all_cnn_sequences = []\n",
    "  all_labels = []\n",
    "\n",
    "  for composer_path in composer_dirs:\n",
    "    composer = os.path.basename(composer_path).lower()\n",
    "    print(f\"\\n🎼 Processing {composer}\")\n",
    "\n",
    "    for file in os.listdir(composer_path):\n",
    "      if not file.endswith('.mid'):\n",
    "        continue\n",
    "      try:\n",
    "        midi_path = os.path.join(composer_path, file)\n",
    "        pm = pretty_midi.PrettyMIDI(midi_path)\n",
    "        notes = extract_note_sequence(pm)\n",
    "        if len(notes) < SEQ_LEN:\n",
    "          continue\n",
    "        sequences = make_feature_sequences(notes, SEQ_LEN)[:MAX_SEQUENCES_PER_FILE]\n",
    "\n",
    "        piano_rolls = [notes_to_piano_roll(seq) for seq in sequences]\n",
    "        all_cnn_sequences.extend(piano_rolls)\n",
    "\n",
    "        normalized = normalize(sequences)\n",
    "        all_lstm_sequences.extend(normalized)\n",
    "\n",
    "        all_labels.extend([composer] * len(sequences))\n",
    "      except Exception as e:\n",
    "        print(f\"⚠️ Skipping {file}: {e}\")\n",
    "        continue\n",
    "\n",
    "  if not all_lstm_sequences:\n",
    "    print(\"No valid sequences found.\")\n",
    "    return None, None, None, None\n",
    "\n",
    "  le = LabelEncoder()\n",
    "  le.fit(sorted(TARGET_COMPOSERS))\n",
    "  y = le.transform(all_labels)\n",
    "\n",
    "  X_lstm = np.array(all_lstm_sequences, dtype=np.float32)\n",
    "  X_cnn = np.array(all_cnn_sequences, dtype=np.float32)[..., np.newaxis]\n",
    "\n",
    "  print(f\"\\n✅ Final LSTM shape: {X_lstm.shape}\")\n",
    "  print(f\"✅ Final CNN shape:  {X_cnn.shape}\")\n",
    "  print(f\"✅ Labels shape:     {y.shape}\")\n",
    "\n",
    "  return X_lstm, X_cnn, y, le"
   ]
  },
  {
   "cell_type": "code",
   "execution_count": 17,
   "metadata": {
    "colab": {
     "base_uri": "https://localhost:8080/"
    },
    "execution": {
     "iopub.execute_input": "2025-08-11T10:38:17.770457Z",
     "iopub.status.busy": "2025-08-11T10:38:17.770125Z",
     "iopub.status.idle": "2025-08-11T10:39:14.742979Z",
     "shell.execute_reply": "2025-08-11T10:39:14.742191Z"
    },
    "executionInfo": {
     "elapsed": 50506,
     "status": "ok",
     "timestamp": 1754902497329,
     "user": {
      "displayName": "Devin Eror",
      "userId": "08010257872820414663"
     },
     "user_tz": 420
    },
    "id": "LsA3hAA5mw-l",
    "outputId": "183822f6-0c54-4c9d-b5c2-11cd3254e6e6"
   },
   "outputs": [
    {
     "name": "stdout",
     "output_type": "stream",
     "text": [
      "\n",
      "🎼 Processing mozart\n"
     ]
    },
    {
     "name": "stderr",
     "output_type": "stream",
     "text": [
      "/usr/local/lib/python3.11/dist-packages/pretty_midi/pretty_midi.py:100: RuntimeWarning: Tempo, Key or Time signature change events found on non-zero tracks.  This is not a valid type 0 or type 1 MIDI file.  Tempo, Key or Time Signature may be wrong.\n",
      "  warnings.warn(\n"
     ]
    },
    {
     "name": "stdout",
     "output_type": "stream",
     "text": [
      "\n",
      "🎼 Processing chopin\n"
     ]
    },
    {
     "name": "stdout",
     "output_type": "stream",
     "text": [
      "\n",
      "🎼 Processing bach\n"
     ]
    },
    {
     "name": "stdout",
     "output_type": "stream",
     "text": [
      "\n",
      "🎼 Processing beethoven\n"
     ]
    },
    {
     "name": "stdout",
     "output_type": "stream",
     "text": [
      "⚠️ Skipping Anhang 14-3.mid: Could not decode key with 3 flats and mode 255\n"
     ]
    },
    {
     "name": "stdout",
     "output_type": "stream",
     "text": [
      "\n",
      "✅ Final LSTM shape: (23990, 50, 3)\n",
      "✅ Final CNN shape:  (23990, 50, 88, 1)\n",
      "✅ Labels shape:     (23990,)\n",
      "Saved to lstm_data.pkl\n"
     ]
    },
    {
     "name": "stdout",
     "output_type": "stream",
     "text": [
      "Saved to cnn_data.pkl\n"
     ]
    }
   ],
   "source": [
    "# 🚀 Run It\n",
    "X_lstm, X_cnn, y, le = preprocess_dataset(composer_dirs)\n",
    "\n",
    "if X_lstm is not None:\n",
    "    save_model_data(X_lstm, y, le, 'lstm_data.pkl')\n",
    "    save_model_data(X_cnn, y, le, 'cnn_data.pkl')"
   ]
  },
  {
   "cell_type": "markdown",
   "metadata": {
    "id": "AToNSdWPHI_V"
   },
   "source": [
    "### Save Preprocessed Data"
   ]
  },
  {
   "cell_type": "markdown",
   "metadata": {
    "id": "UlLtiuF1VqKc"
   },
   "source": [
    "### Run"
   ]
  },
  {
   "cell_type": "code",
   "execution_count": 18,
   "metadata": {
    "colab": {
     "base_uri": "https://localhost:8080/"
    },
    "execution": {
     "iopub.execute_input": "2025-08-11T10:39:14.747685Z",
     "iopub.status.busy": "2025-08-11T10:39:14.746944Z",
     "iopub.status.idle": "2025-08-11T10:39:19.770481Z",
     "shell.execute_reply": "2025-08-11T10:39:19.769583Z"
    },
    "executionInfo": {
     "elapsed": 3974,
     "status": "ok",
     "timestamp": 1754902501305,
     "user": {
      "displayName": "Devin Eror",
      "userId": "08010257872820414663"
     },
     "user_tz": 420
    },
    "id": "a8eed084",
    "outputId": "a1121535-0ea7-4ede-eb6e-aa843a361b61"
   },
   "outputs": [
    {
     "name": "stdout",
     "output_type": "stream",
     "text": [
      "  adding: content/cnn_data.pkl"
     ]
    },
    {
     "name": "stdout",
     "output_type": "stream",
     "text": [
      " (deflated 99%)\n"
     ]
    }
   ],
   "source": [
    "!zip cnn_data.pkl.zip /content/cnn_data.pkl"
   ]
  },
  {
   "cell_type": "code",
   "execution_count": 19,
   "metadata": {
    "colab": {
     "base_uri": "https://localhost:8080/"
    },
    "execution": {
     "iopub.execute_input": "2025-08-11T10:39:19.773752Z",
     "iopub.status.busy": "2025-08-11T10:39:19.773494Z",
     "iopub.status.idle": "2025-08-11T10:39:21.353110Z",
     "shell.execute_reply": "2025-08-11T10:39:21.352174Z"
    },
    "executionInfo": {
     "elapsed": 1229,
     "status": "ok",
     "timestamp": 1754902502536,
     "user": {
      "displayName": "Devin Eror",
      "userId": "08010257872820414663"
     },
     "user_tz": 420
    },
    "id": "cb455591",
    "outputId": "0a617dab-e3f5-48da-9bf9-afdc54cfa385"
   },
   "outputs": [
    {
     "name": "stdout",
     "output_type": "stream",
     "text": [
      "Saved standardized outputs to: ./processed_data\n"
     ]
    }
   ],
   "source": [
    "# === Standardized save: split & dump expected files ===\n",
    "import numpy as np, pickle, os\n",
    "from pathlib import Path\n",
    "from sklearn.model_selection import train_test_split\n",
    "\n",
    "Path(OUTPUT_DIR).mkdir(parents=True, exist_ok=True)\n",
    "\n",
    "def _ensure_numpy(x):\n",
    "    return np.array(x)\n",
    "\n",
    "X_lstm = _ensure_numpy(X_lstm)\n",
    "y      = _ensure_numpy(y)\n",
    "\n",
    "X_train_l, X_temp, y_train, y_temp = train_test_split(X_lstm, y, test_size=0.30, random_state=42, stratify=y)\n",
    "X_dev_l,   X_test_l, y_dev,  y_test = train_test_split(X_temp, y_temp, test_size=0.50, random_state=42, stratify=y_temp)\n",
    "\n",
    "with open(os.path.join(OUTPUT_DIR, 'label_encoder.pkl'), 'wb') as f:\n",
    "    pickle.dump(le, f)\n",
    "\n",
    "with open(os.path.join(OUTPUT_DIR, 'lstm_data.pkl'), 'wb') as f:\n",
    "    pickle.dump((X_train_l, y_train, le), f)\n",
    "with open(os.path.join(OUTPUT_DIR, 'lstm_dev.pkl'), 'wb') as f:\n",
    "    pickle.dump((X_dev_l, y_dev), f)\n",
    "with open(os.path.join(OUTPUT_DIR, 'lstm_test.pkl'), 'wb') as f:\n",
    "    pickle.dump((X_test_l, y_test), f)\n",
    "\n",
    "try:\n",
    "    X_cnn = _ensure_numpy(X_cnn)\n",
    "    with open(os.path.join(OUTPUT_DIR, 'cnn_data.pkl'), 'wb') as f:\n",
    "        pickle.dump((X_cnn, y, le), f)\n",
    "except Exception as e:\n",
    "    print(\"[note] CNN tensor not available or failed to save:\", e)\n",
    "\n",
    "print(\"Saved standardized outputs to:\", OUTPUT_DIR)\n"
   ]
  }
 ],
 "metadata": {
  "colab": {
   "machine_shape": "hm",
   "provenance": []
  },
  "kernelspec": {
   "display_name": "Python 3",
   "name": "python3"
  },
  "language_info": {
   "codemirror_mode": {
    "name": "ipython",
    "version": 3
   },
   "file_extension": ".py",
   "mimetype": "text/x-python",
   "name": "python",
   "nbconvert_exporter": "python",
   "pygments_lexer": "ipython3",
   "version": "3.11.13"
  }
 },
 "nbformat": 4,
 "nbformat_minor": 0
}
